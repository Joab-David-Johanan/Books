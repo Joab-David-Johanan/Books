{
 "cells": [
  {
   "cell_type": "markdown",
   "id": "92945d4e",
   "metadata": {},
   "source": [
    "<span style='background-color:orange'>**Use of Decorators:** </span>\n",
    "- By defining a decorator, we actually create a reusable piece of code that can\n",
    "be applied to any function to extend its functionality.\n",
    "- Generally, decorators are placed in separate modules so that they can be reused in many places."
   ]
  },
  {
   "cell_type": "code",
   "execution_count": 7,
   "id": "be25fe37",
   "metadata": {},
   "outputs": [
    {
     "name": "stdout",
     "output_type": "stream",
     "text": [
      "\n",
      "Starting Execution!\n",
      "Hello World!\n",
      "Welcome to Python!\n",
      "Ending Execution!\n",
      "\n",
      "Starting Execution!\n",
      "0 1 2 3 4 5 6 7 8 9 \n",
      "Ending Execution!\n"
     ]
    }
   ],
   "source": [
    "def func1():\n",
    "    print(\"Hello World!\")\n",
    "    print(\"Welcome to Python!\")\n",
    "    \n",
    "\n",
    "def func2():\n",
    "    for i in range(10):\n",
    "        print(i,end=' ')\n",
    "    print() # after 9 is printed we place this print so that \\n (through the end parameter) \n",
    "            # is applied as the end and what is printed next is moved to the next line\n",
    "\n",
    "def my_decorator(fn):\n",
    "    def wrapper():\n",
    "        print()\n",
    "        print(\"Starting Execution!\")\n",
    "        fn()\n",
    "        print(\"Ending Execution!\")\n",
    "    return wrapper\n",
    "\n",
    "func1=my_decorator(func1)\n",
    "func2=my_decorator(func2)\n",
    "\n",
    "func1()\n",
    "func2()"
   ]
  }
 ],
 "metadata": {
  "kernelspec": {
   "display_name": "Python 3",
   "language": "python",
   "name": "python3"
  },
  "language_info": {
   "codemirror_mode": {
    "name": "ipython",
    "version": 3
   },
   "file_extension": ".py",
   "mimetype": "text/x-python",
   "name": "python",
   "nbconvert_exporter": "python",
   "pygments_lexer": "ipython3",
   "version": "3.12.0"
  }
 },
 "nbformat": 4,
 "nbformat_minor": 5
}
