{
 "cells": [
  {
   "cell_type": "markdown",
   "id": "9904d36a",
   "metadata": {},
   "source": [
    "<span style='background-color:orange'>**Class Decorators:**</span>\n",
    "- We decorate a function using a class decorator.\n",
    "- We create a class that takes in a `fn` parameter in its `init` function and we define a `__call__` method that does the extra work of decoration.\n",
    "- When we use manual decoration we see that `example=MyClassDecorator(example)` is similar to object creation/instantiation of the `MyClassDecorator` class.\n",
    "- And when the instance of the class is created then the `__init__` method is called which defines the `self.fn` instance variable.\n",
    "- We make an instance of the class callable by defining the `__call__` method in the class decorator `MyClassDecorator`."
   ]
  },
  {
   "cell_type": "code",
   "execution_count": 8,
   "id": "1d260b27",
   "metadata": {},
   "outputs": [
    {
     "name": "stdout",
     "output_type": "stream",
     "text": [
      "Before function execution...\n",
      "Joab 29\n",
      "After function execution...\n"
     ]
    }
   ],
   "source": [
    "class MyClassDecorator:\n",
    "    def __init__(self,fn):\n",
    "        self.fn=fn\n",
    "    def __call__(self,*args,**kwargs):\n",
    "        print(f\"Before function execution...\")\n",
    "        self.fn(*args,**kwargs)\n",
    "        print(f\"After function execution...\")\n",
    "\n",
    "def example(name,age):\n",
    "    print(name,age)\n",
    "\n",
    "# We seem to be using the manual decoration syntax, but we are also initializing an object of the class.\n",
    "# Since the decorator class has a __call__ method defined inside it, we can call this object as a function.\n",
    "example=MyClassDecorator(example)\n",
    "\n",
    "example(\"Joab\",29)"
   ]
  },
  {
   "cell_type": "code",
   "execution_count": 9,
   "id": "784a2026",
   "metadata": {},
   "outputs": [
    {
     "name": "stdout",
     "output_type": "stream",
     "text": [
      "Before function execution...\n",
      "Joab 29\n",
      "After function execution...\n",
      "None\n"
     ]
    }
   ],
   "source": [
    "# We can see that our class decorator is currently not returning any value\n",
    "var=example(\"Joab\",29)\n",
    "print(var)"
   ]
  },
  {
   "cell_type": "code",
   "execution_count": 11,
   "id": "9d11356f",
   "metadata": {},
   "outputs": [
    {
     "name": "stdout",
     "output_type": "stream",
     "text": [
      "Before function execution...\n",
      "Joab 29\n",
      "After function execution...\n",
      "('Joab', 29)\n"
     ]
    }
   ],
   "source": [
    "class MyClassDecorator:\n",
    "    def __init__(self,fn):\n",
    "        self.fn=fn\n",
    "    def __call__(self,*args,**kwargs):\n",
    "        print(f\"Before function execution...\")\n",
    "        result=self.fn(*args,**kwargs)\n",
    "        print(f\"After function execution...\")\n",
    "        return result\n",
    "\n",
    "# using automatic decoration syntax\n",
    "@MyClassDecorator\n",
    "def example(name,age):\n",
    "    print(name,age)\n",
    "    return name,age\n",
    "\n",
    "# We can see that our class decorator is now returning values\n",
    "var=example(\"Joab\",29)\n",
    "print(var)"
   ]
  },
  {
   "cell_type": "code",
   "execution_count": 14,
   "id": "1a9b4cf8",
   "metadata": {},
   "outputs": [
    {
     "name": "stdout",
     "output_type": "stream",
     "text": [
      "Before function execution...\n",
      "Joab 29\n",
      "After function execution...\n",
      "('Joab', 29)\n",
      "Joab David Johanan\n"
     ]
    }
   ],
   "source": [
    "from functools import wraps\n",
    "class MyClassDecorator:\n",
    "    def __init__(self,fn):\n",
    "        self.fn=fn\n",
    "        # preserving the metadata of the function\n",
    "        wraps(fn)(self)\n",
    "        # creating a new attribute for the instance\n",
    "        self.author='Joab David Johanan'\n",
    "    def __call__(self,*args,**kwargs):\n",
    "        print(f\"Before function execution...\")\n",
    "        result=self.fn(*args,**kwargs)\n",
    "        print(f\"After function execution...\")\n",
    "        return result\n",
    "\n",
    "# using automatic decoration syntax\n",
    "@MyClassDecorator\n",
    "def example(name,age):\n",
    "    print(name,age)\n",
    "    return name,age\n",
    "\n",
    "# We can see that our class decorator is now returning values\n",
    "var=example(\"Joab\",29)\n",
    "print(var)\n",
    "# we get the newly created attribute of the instance\n",
    "print(example.author)"
   ]
  }
 ],
 "metadata": {
  "kernelspec": {
   "display_name": "Python 3",
   "language": "python",
   "name": "python3"
  },
  "language_info": {
   "codemirror_mode": {
    "name": "ipython",
    "version": 3
   },
   "file_extension": ".py",
   "mimetype": "text/x-python",
   "name": "python",
   "nbconvert_exporter": "python",
   "pygments_lexer": "ipython3",
   "version": "3.12.0"
  }
 },
 "nbformat": 4,
 "nbformat_minor": 5
}
