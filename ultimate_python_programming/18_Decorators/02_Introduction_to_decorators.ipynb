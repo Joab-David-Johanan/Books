{
 "cells": [
  {
   "cell_type": "markdown",
   "id": "2edabf2d",
   "metadata": {},
   "source": [
    "<span style=\"background-color:orange\">**Decorator:** A decorator is a callable that takes a callable as input and returns a callable. The callable in this definition can be a function or a class.</span>"
   ]
  },
  {
   "cell_type": "markdown",
   "id": "f8f3cafc",
   "metadata": {},
   "source": [
    "Use of Decorators:\n",
    "- Decorators are used to add some functionality to a function. They allow you to execute some extra code before or after the execution of a function. This extra work is done without making any changes to the source code of the\n",
    "function. \n",
    "- <span style=\"background-color:yellow\">**Summary:** Decorators we can extend the behavior of a function without actually modifying its code.</span>"
   ]
  },
  {
   "cell_type": "markdown",
   "id": "1c38ea13",
   "metadata": {},
   "source": [
    "Additional information about Decorators:\n",
    "- Decorators are functions, so they are reusable pieces of code; we can apply\n",
    "a decorator to different functions to add the same functionality to all of\n",
    "them without changing their code.\n",
    "- There are some `built-in decorators` like `classmethod` and `staticmethod` and many third-party libraries also provide decorators for some common functionalities e.g., `@app.route('/')`, `@app.route('/index',methods=['POST'])` in Flask.\n",
    "- We can also define our own decorators; these are called `user-defined decorators`."
   ]
  },
  {
   "cell_type": "markdown",
   "id": "edf4060f",
   "metadata": {},
   "source": []
  }
 ],
 "metadata": {
  "kernelspec": {
   "display_name": "Python 3",
   "language": "python",
   "name": "python3"
  },
  "language_info": {
   "name": "python",
   "version": "3.12.0"
  }
 },
 "nbformat": 4,
 "nbformat_minor": 5
}
