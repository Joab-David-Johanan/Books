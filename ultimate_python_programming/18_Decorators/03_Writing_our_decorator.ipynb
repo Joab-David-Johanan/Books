{
 "cells": [
  {
   "cell_type": "markdown",
   "id": "1f3903d8",
   "metadata": {},
   "source": [
    "<span style='background-color:orange'>**Decorating Func1():** We will see the function func1 doing its own work and some extra work specified in the decorator my_decorator</span>"
   ]
  },
  {
   "cell_type": "code",
   "execution_count": 18,
   "id": "7387e5e8",
   "metadata": {},
   "outputs": [
    {
     "name": "stdout",
     "output_type": "stream",
     "text": [
      "Hi … Starting execution\n",
      "Hello World!\n",
      "Welcome to Python!\n",
      "Bye … Finished execution\n",
      "\n"
     ]
    }
   ],
   "source": [
    "def func1():\n",
    "    print(\"Hello World!\")\n",
    "    print(\"Welcome to Python!\")\n",
    "\n",
    "def my_decorator(fn):\n",
    "    def wrapper():\n",
    "        # Place code to be executed before the function call\n",
    "        print('Hi … Starting execution')\n",
    "        # Here we call the function\n",
    "        fn()\n",
    "        # Place code to be executed after the function call\n",
    "        print('Bye … Finished execution\\n')\n",
    "    return wrapper\n",
    "\n",
    "func1=my_decorator(func1)\n",
    "func1()"
   ]
  },
  {
   "cell_type": "markdown",
   "id": "a0b24c68",
   "metadata": {},
   "source": [
    "Explanation of the steps:\n",
    "- Before execution of the argument function, we want `print('Hi … Starting execution')` to be executed, so we write it before `fn()`, and after execution of the function, we want `print('Bye … Finished execution\\n')` to be executed, so we write it after `fn()`.\n",
    "- we have reassigned the name `func1` with the return value of the decorator, so after this statement, `func1` no longer refers to the `function object` created by `def func1()`. Instead, it refers to the `function object` created by the `def wrapper()` statement. \n",
    "- Now, when we call `func1`, the `wrapper function` will be executed, which calls the original function i.e, func1 as well as the additional code, and so we will get the decorated output.\n",
    "- <span style='background-color:red'>**Properties of functions that are being used:**</span> \n",
    "    - <span style='background-color:yellow'>The function my_decorator is being assigned to a variable func1.</span>\n",
    "    - <span style='background-color:yellow'>The function func1 is being passed as an argument to the function my_decorator.</span>\n",
    "    - <span style='background-color:yellow'>The function wrapper is being returned by the function my_decorator.</span>\n",
    "    - <span style='background-color:yellow'> Wrapper function is a closure, which has access to and remembers the parameter fn of the outer function, even after the outer function my_decorator has finished executing.</span>"
   ]
  }
 ],
 "metadata": {
  "kernelspec": {
   "display_name": "Python 3",
   "language": "python",
   "name": "python3"
  },
  "language_info": {
   "codemirror_mode": {
    "name": "ipython",
    "version": 3
   },
   "file_extension": ".py",
   "mimetype": "text/x-python",
   "name": "python",
   "nbconvert_exporter": "python",
   "pygments_lexer": "ipython3",
   "version": "3.12.0"
  }
 },
 "nbformat": 4,
 "nbformat_minor": 5
}
