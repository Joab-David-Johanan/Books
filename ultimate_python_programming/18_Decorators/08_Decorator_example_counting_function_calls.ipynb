{
 "cells": [
  {
   "cell_type": "code",
   "execution_count": 7,
   "id": "057653c9",
   "metadata": {},
   "outputs": [
    {
     "name": "stdout",
     "output_type": "stream",
     "text": [
      "3\n",
      "1\n",
      "HighFive!\n"
     ]
    }
   ],
   "source": [
    "def call_counter(fn):\n",
    "    def wrapper():\n",
    "        # here we update the attribute whenever the function is called\n",
    "        wrapper.num_of_calls+=1\n",
    "        fn()\n",
    "    # here we define the custom attribute of the function\n",
    "    wrapper.num_of_calls=0\n",
    "    wrapper.something=\"HighFive!\"\n",
    "    return wrapper\n",
    "\n",
    "@call_counter\n",
    "def func1():\n",
    "    return 10\n",
    "\n",
    "@call_counter\n",
    "def func2():\n",
    "    return 20\n",
    "\n",
    "func1()\n",
    "func2()\n",
    "func1()\n",
    "func1()\n",
    "\n",
    "print(func1.num_of_calls)\n",
    "print(func2.num_of_calls)\n",
    "print(func2.something)"
   ]
  }
 ],
 "metadata": {
  "kernelspec": {
   "display_name": "Python 3",
   "language": "python",
   "name": "python3"
  },
  "language_info": {
   "codemirror_mode": {
    "name": "ipython",
    "version": 3
   },
   "file_extension": ".py",
   "mimetype": "text/x-python",
   "name": "python",
   "nbconvert_exporter": "python",
   "pygments_lexer": "ipython3",
   "version": "3.12.0"
  }
 },
 "nbformat": 4,
 "nbformat_minor": 5
}
