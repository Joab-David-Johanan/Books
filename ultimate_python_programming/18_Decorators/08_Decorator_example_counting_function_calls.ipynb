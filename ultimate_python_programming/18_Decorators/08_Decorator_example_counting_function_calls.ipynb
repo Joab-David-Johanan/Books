{
 "cells": [
  {
   "cell_type": "code",
   "execution_count": 4,
   "id": "6e4c0d37",
   "metadata": {},
   "outputs": [
    {
     "name": "stdout",
     "output_type": "stream",
     "text": [
      "3\n",
      "1\n",
      "\n",
      "2298660258336\n",
      "2298660259136\n"
     ]
    }
   ],
   "source": [
    "def call_counter(fn):\n",
    "    def wrapper():\n",
    "        # here we update the attribute whenever the function is called\n",
    "        wrapper.num_of_calls+=1\n",
    "        fn()\n",
    "    # here we define the custom attribute of the function\n",
    "    wrapper.num_of_calls=0\n",
    "    return wrapper\n",
    "\n",
    "@call_counter\n",
    "def func1():\n",
    "    return 10\n",
    "\n",
    "@call_counter\n",
    "def func2():\n",
    "    return 20\n",
    "\n",
    "func1()\n",
    "func2()\n",
    "func1()\n",
    "func1()\n",
    "\n",
    "print(func1.num_of_calls)\n",
    "print(func2.num_of_calls)\n",
    "print()\n",
    "\n",
    "# id() in Python returns the memory address\n",
    "print(id(func1))\n",
    "print(id(func2))"
   ]
  },
  {
   "cell_type": "markdown",
   "id": "93009908",
   "metadata": {},
   "source": [
    "The `IDs` are different because,\n",
    "- **each time you apply a decorator to a function, Python actually calls the decorator again and produces a new inner function object** — even if the code of the inner function is identical.\n",
    "- Every wrapper returned from my_decorator is a **different object in memory**, so the IDs differ.\n",
    "- <span style='background-color:yellow'>This is necessary because each wrapper must capture a different func in its closure — **f1’s** wrapper needs to call **f1**, **f2’s** wrapper needs to call **f2**.</span>"
   ]
  },
  {
   "cell_type": "code",
   "execution_count": 5,
   "id": "057653c9",
   "metadata": {},
   "outputs": [
    {
     "name": "stdout",
     "output_type": "stream",
     "text": [
      "3\n",
      "1\n",
      "HighFive!\n"
     ]
    }
   ],
   "source": [
    "def call_counter(fn):\n",
    "    def wrapper():\n",
    "        # here we update the attribute whenever the function is called\n",
    "        wrapper.num_of_calls+=1\n",
    "        fn()\n",
    "    # here we define the custom attribute of the function\n",
    "    wrapper.num_of_calls=0\n",
    "    wrapper.something=\"HighFive!\"\n",
    "    return wrapper\n",
    "\n",
    "@call_counter\n",
    "def func1():\n",
    "    return 10\n",
    "\n",
    "@call_counter\n",
    "def func2():\n",
    "    return 20\n",
    "\n",
    "func1()\n",
    "func2()\n",
    "func1()\n",
    "func1()\n",
    "\n",
    "print(func1.num_of_calls)\n",
    "print(func2.num_of_calls)\n",
    "print(func2.something)"
   ]
  },
  {
   "cell_type": "markdown",
   "id": "cbea3f91",
   "metadata": {},
   "source": [
    "Explanation:\n",
    "- When `func1` is decorated with `@call_counter` it calls the `call_counter` function and it creates the `def wrapper function` and then encounters the `wrapper.num_of_calls` statement which creates a new attribute for the newly created `wrapper function` above it and then it returns the wrapper function object.\n",
    "- So func1() is called it calls the wrapper function which updates the num_of_calls attribute for the func that it remembers--->note it was created with `func1=count_calls(func1)` so it must remember to update the `wrapper.num_of_calls` attribute for `func1`. Similarly `func2()` calls the wrapper function which updates the `num_of_calls` attribute for the func that it remembers when it was created which turns out to be for `func2` so that specific wrapper attribute is updated.\n",
    "- `wrapper.num_of_calls` and `wrapper.something` are newly created attributes for the inner function `wrapper` when the outer function `call_counter` is called."
   ]
  }
 ],
 "metadata": {
  "kernelspec": {
   "display_name": "Python 3",
   "language": "python",
   "name": "python3"
  },
  "language_info": {
   "codemirror_mode": {
    "name": "ipython",
    "version": 3
   },
   "file_extension": ".py",
   "mimetype": "text/x-python",
   "name": "python",
   "nbconvert_exporter": "python",
   "pygments_lexer": "ipython3",
   "version": "3.12.0"
  }
 },
 "nbformat": 4,
 "nbformat_minor": 5
}
