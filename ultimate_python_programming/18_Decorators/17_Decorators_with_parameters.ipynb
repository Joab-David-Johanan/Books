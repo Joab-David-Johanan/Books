{
 "cells": [
  {
   "cell_type": "code",
   "execution_count": 9,
   "id": "36ca4a37",
   "metadata": {},
   "outputs": [
    {
     "name": "stdout",
     "output_type": "stream",
     "text": [
      "\n",
      "example was called\n",
      "args:(9,) kwargs:{'n': 3}\n",
      "result:729\n",
      "\n",
      "example2 was called\n",
      "args:(2,) kwargs:{'n': 400}\n",
      "result:800\n",
      "\n",
      "example3 was called\n",
      "args:(50,) kwargs:{'n': 20}\n",
      "result:70\n"
     ]
    },
    {
     "data": {
      "text/plain": [
       "70"
      ]
     },
     "execution_count": 9,
     "metadata": {},
     "output_type": "execute_result"
    }
   ],
   "source": [
    "from functools import wraps\n",
    "def my_decorator(lower_limit,upper_limit):\n",
    "    def actual_decorator(fn):\n",
    "        @wraps(fn)\n",
    "        def wrapper(*args,**kwargs):\n",
    "            print()\n",
    "            print(f\"{fn.__name__} was called\")\n",
    "            print(f\"args:{args} kwargs:{kwargs}\")\n",
    "            result=fn(*args,**kwargs)\n",
    "            print(f\"result:{result}\")\n",
    "            return result\n",
    "        return wrapper\n",
    "    return actual_decorator\n",
    "\n",
    "# lower limit is 500 and upper limit is 10000\n",
    "@my_decorator(500,10000)\n",
    "def example(x,n):\n",
    "    return x**n\n",
    "\n",
    "# lower limit is 200 and upper limit is 1000\n",
    "@my_decorator(200,1000)\n",
    "def example2(x,n):\n",
    "    return x*n\n",
    "\n",
    "# lower limit is 0 and upper limit is 100\n",
    "@my_decorator(0,100)\n",
    "def example3(x,n):\n",
    "    return x+n\n",
    "\n",
    "example(9,n=3)\n",
    "example2(2,n=400)\n",
    "example3(50,n=20)"
   ]
  }
 ],
 "metadata": {
  "kernelspec": {
   "display_name": "Python 3",
   "language": "python",
   "name": "python3"
  },
  "language_info": {
   "codemirror_mode": {
    "name": "ipython",
    "version": 3
   },
   "file_extension": ".py",
   "mimetype": "text/x-python",
   "name": "python",
   "nbconvert_exporter": "python",
   "pygments_lexer": "ipython3",
   "version": "3.12.0"
  }
 },
 "nbformat": 4,
 "nbformat_minor": 5
}
