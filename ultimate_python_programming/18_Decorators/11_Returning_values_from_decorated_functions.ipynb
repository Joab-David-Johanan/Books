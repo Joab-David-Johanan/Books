{
 "cells": [
  {
   "cell_type": "markdown",
   "id": "32a1b93b",
   "metadata": {},
   "source": [
    "<span style='background-color:orange'>**Returning values from Decorated Functions:**</span>"
   ]
  },
  {
   "cell_type": "code",
   "execution_count": 1,
   "id": "0c0103f4",
   "metadata": {},
   "outputs": [
    {
     "name": "stdout",
     "output_type": "stream",
     "text": [
      "func1 executing\n",
      "func1 took 0.001088857650756836 seconds\n",
      "None\n"
     ]
    }
   ],
   "source": [
    "def timer(fn):\n",
    "    def wrapper(*args,**kwargs):\n",
    "        from time import time\n",
    "        start=time()\n",
    "        fn(*args,**kwargs)\n",
    "        end=time()\n",
    "        print(f\"{fn.__name__} took {end-start} seconds\")\n",
    "    return wrapper\n",
    "\n",
    "@timer\n",
    "def func1(n):\n",
    "    print(\"func1 executing\")\n",
    "    return n*2\n",
    "\n",
    "s=func1(9)\n",
    "print(s)"
   ]
  },
  {
   "cell_type": "markdown",
   "id": "569d536b",
   "metadata": {},
   "source": [
    "Steps breakdown:\n",
    "- The **@timer** decorator decorates `func1` and this results in the following -->`func1=timer(func1)`, so now `func1` refers to the `function object` created by `def wrapper(*args,**kwargs):` not the function object created by `def func1(n)`.\n",
    "- The statement `s=func1(9)` therefore actually looks like the following--->`s=wrapper(9)` so wrapper function gets called with the argument `9`. \n",
    "- Note that the `wrapper function` does not store the return value of the `fn(*args,**kwargs)` nor does the `wrapper function` return any value. Hence the `wrapper function` ends up returning `None`. "
   ]
  },
  {
   "cell_type": "code",
   "execution_count": 2,
   "id": "74ec812e",
   "metadata": {},
   "outputs": [
    {
     "name": "stdout",
     "output_type": "stream",
     "text": [
      "func1 executing\n",
      "func1 took 0.0 seconds\n",
      "18\n"
     ]
    }
   ],
   "source": [
    "def timer(fn):\n",
    "    def wrapper(*args,**kwargs):\n",
    "        from time import time\n",
    "        start=time()\n",
    "        result=fn(*args,**kwargs)\n",
    "        end=time()\n",
    "        print(f\"{fn.__name__} took {end-start} seconds\")\n",
    "        return result\n",
    "    return wrapper\n",
    "\n",
    "@timer\n",
    "def func1(n):\n",
    "    print(\"func1 executing\")\n",
    "    return n*2\n",
    "\n",
    "s=func1(9)\n",
    "print(s)"
   ]
  },
  {
   "cell_type": "markdown",
   "id": "049f867e",
   "metadata": {},
   "source": [
    "- Now that the `wrapper function` stores the return value of the function call -> `fn(*args,**kwargs)` in the `result` variable and the `wrapper function` returns the `result`. Hence the `wrapper function` ends up returning `18`. "
   ]
  }
 ],
 "metadata": {
  "kernelspec": {
   "display_name": "Python 3",
   "language": "python",
   "name": "python3"
  },
  "language_info": {
   "codemirror_mode": {
    "name": "ipython",
    "version": 3
   },
   "file_extension": ".py",
   "mimetype": "text/x-python",
   "name": "python",
   "nbconvert_exporter": "python",
   "pygments_lexer": "ipython3",
   "version": "3.12.0"
  }
 },
 "nbformat": 4,
 "nbformat_minor": 5
}
