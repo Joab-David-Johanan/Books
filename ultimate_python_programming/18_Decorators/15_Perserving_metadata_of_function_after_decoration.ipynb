{
 "cells": [
  {
   "cell_type": "code",
   "execution_count": 3,
   "id": "2818d37b",
   "metadata": {},
   "outputs": [
    {
     "name": "stdout",
     "output_type": "stream",
     "text": [
      "\n",
      "username was called\n",
      "args: () and kwargs:{'email_id': 'joabdavid@gmail.com'}\n",
      "result:JOABDAVID\n",
      "\n",
      "username was called\n",
      "args: ('joashpaul@gmail.com',) and kwargs:{}\n",
      "result:JOASHPAUL\n",
      "\n",
      "JOABDAVID JOASHPAUL\n"
     ]
    }
   ],
   "source": [
    "from functools import wraps\n",
    "def trace(fn):\n",
    "    @wraps(fn)\n",
    "    def wrapper(*args,**kwargs):\n",
    "        print()\n",
    "        print(f\"{fn.__name__} was called\")\n",
    "        print(f\"args: {args} and kwargs:{kwargs}\")\n",
    "        result=fn(*args,**kwargs)\n",
    "        print(f\"result:{result}\")\n",
    "        return result\n",
    "    return wrapper\n",
    "\n",
    "def capitalize(fn):\n",
    "    @wraps(fn)\n",
    "    def wrapper(*args,**kwargs):\n",
    "        result=fn(*args,**kwargs)\n",
    "        return result.upper()\n",
    "    return wrapper\n",
    "\n",
    "@trace\n",
    "@capitalize\n",
    "def username(email_id):\n",
    "    return email_id[:email_id.index('@')]\n",
    "\n",
    "u1=username(email_id=\"joabdavid@gmail.com\")\n",
    "u2=username(\"joashpaul@gmail.com\")\n",
    "\n",
    "print()\n",
    "print(u1,u2)"
   ]
  }
 ],
 "metadata": {
  "kernelspec": {
   "display_name": "Python 3",
   "language": "python",
   "name": "python3"
  },
  "language_info": {
   "codemirror_mode": {
    "name": "ipython",
    "version": 3
   },
   "file_extension": ".py",
   "mimetype": "text/x-python",
   "name": "python",
   "nbconvert_exporter": "python",
   "pygments_lexer": "ipython3",
   "version": "3.12.0"
  }
 },
 "nbformat": 4,
 "nbformat_minor": 5
}
