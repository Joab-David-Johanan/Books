{
 "cells": [
  {
   "cell_type": "markdown",
   "id": "9e47c1ef",
   "metadata": {},
   "source": [
    "<span style='background-color:orange'>**Perserving Metadata of the function to be decorated:**</span>\n",
    "- Once we decorate a function we lose its metadata.\n",
    "- In order to preserve the metadata, we use **@wraps(fn)** decorator that is comes by the import --> `from functools import wraps`."
   ]
  },
  {
   "cell_type": "code",
   "execution_count": 10,
   "id": "a9750871",
   "metadata": {},
   "outputs": [],
   "source": [
    "def trace_without_wraps(fn):\n",
    "    def wrapper(*args,**kwargs):\n",
    "        print(f\"{fn.__name__} was called\")\n",
    "        print(f\"args:{args} kwargs:{kwargs}\")\n",
    "        result=fn(*args,**kwargs)\n",
    "        print(f\"result:{result}\")\n",
    "        return result\n",
    "    return wrapper\n",
    "\n",
    "@trace_without_wraps\n",
    "def hello_world(name):\n",
    "    \"\"\"This function returns the name of the individual\"\"\"\n",
    "    print(f\"Hello {name},welcome to the world!\")\n",
    "    return name\n"
   ]
  },
  {
   "cell_type": "code",
   "execution_count": 11,
   "id": "64c8b069",
   "metadata": {},
   "outputs": [
    {
     "name": "stdout",
     "output_type": "stream",
     "text": [
      "wrapper\n"
     ]
    }
   ],
   "source": [
    "# seeing the name attribute of the decorated function that was decorated with trace_without_wraps\n",
    "print(hello_world.__name__)"
   ]
  },
  {
   "cell_type": "code",
   "execution_count": 12,
   "id": "f912ce8c",
   "metadata": {},
   "outputs": [
    {
     "name": "stdout",
     "output_type": "stream",
     "text": [
      "None\n"
     ]
    }
   ],
   "source": [
    "# we can see the doc string of the original function is lost when we do not preserve the metadata of original function\n",
    "print(hello_world.__doc__)"
   ]
  },
  {
   "cell_type": "code",
   "execution_count": 13,
   "id": "a6a10cd0",
   "metadata": {},
   "outputs": [
    {
     "name": "stdout",
     "output_type": "stream",
     "text": [
      "Help on function wrapper in module __main__:\n",
      "\n",
      "wrapper(*args, **kwargs)\n",
      "\n",
      "None\n"
     ]
    }
   ],
   "source": [
    "# we get help on the wrapper function not the original function\n",
    "print(help(hello_world))"
   ]
  },
  {
   "cell_type": "code",
   "execution_count": 14,
   "id": "df4eac18",
   "metadata": {},
   "outputs": [
    {
     "name": "stdout",
     "output_type": "stream",
     "text": [
      "<function trace_without_wraps.<locals>.wrapper at 0x0000026EB4DD6340>\n"
     ]
    }
   ],
   "source": [
    "# refers trace_without_wraps\n",
    "print(hello_world)"
   ]
  },
  {
   "cell_type": "code",
   "execution_count": 16,
   "id": "2818d37b",
   "metadata": {},
   "outputs": [
    {
     "name": "stdout",
     "output_type": "stream",
     "text": [
      "\n",
      "username was called\n",
      "args: () and kwargs:{'email_id': 'joabdavid@gmail.com'}\n",
      "result:JOABDAVID\n",
      "\n",
      "username was called\n",
      "args: ('joashpaul@gmail.com',) and kwargs:{}\n",
      "result:JOASHPAUL\n",
      "\n",
      "JOABDAVID JOASHPAUL\n"
     ]
    }
   ],
   "source": [
    "# Perserving metadata using @wraps(fn)\n",
    "\n",
    "from functools import wraps\n",
    "def trace(fn):\n",
    "    @wraps(fn)\n",
    "    def wrapper(*args,**kwargs):\n",
    "        print()\n",
    "        print(f\"{fn.__name__} was called\")\n",
    "        print(f\"args: {args} and kwargs:{kwargs}\")\n",
    "        result=fn(*args,**kwargs)\n",
    "        print(f\"result:{result}\")\n",
    "        return result\n",
    "    return wrapper\n",
    "\n",
    "def capitalize(fn):\n",
    "    @wraps(fn)\n",
    "    def wrapper(*args,**kwargs):\n",
    "        result=fn(*args,**kwargs)\n",
    "        return result.upper()\n",
    "    return wrapper\n",
    "\n",
    "@trace\n",
    "@capitalize\n",
    "def username(email_id):\n",
    "    return email_id[:email_id.index('@')]\n",
    "\n",
    "u1=username(email_id=\"joabdavid@gmail.com\")\n",
    "u2=username(\"joashpaul@gmail.com\")\n",
    "\n",
    "print()\n",
    "print(u1,u2)"
   ]
  }
 ],
 "metadata": {
  "kernelspec": {
   "display_name": "Python 3",
   "language": "python",
   "name": "python3"
  },
  "language_info": {
   "codemirror_mode": {
    "name": "ipython",
    "version": 3
   },
   "file_extension": ".py",
   "mimetype": "text/x-python",
   "name": "python",
   "nbconvert_exporter": "python",
   "pygments_lexer": "ipython3",
   "version": "3.12.0"
  }
 },
 "nbformat": 4,
 "nbformat_minor": 5
}
