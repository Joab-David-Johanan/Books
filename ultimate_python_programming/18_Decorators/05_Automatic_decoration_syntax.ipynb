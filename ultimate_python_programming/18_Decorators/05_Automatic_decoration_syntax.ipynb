{
 "cells": [
  {
   "cell_type": "markdown",
   "id": "c7f75998",
   "metadata": {},
   "source": [
    "<span style='background-color:orange'>**Automatic Decoration Syntax:**</span>\n",
    "- Python provides an `automatic way of applying the decorator`.\n",
    "- You just need to add the @ sign and decorator name before the definition of function that you want to decorate. example: `@my_decorator`\n",
    "- The reassignment statement---> `func1=my_decorator(func1)` that we are writing to decorate a function is the `manual way of applying decorator` to a function."
   ]
  },
  {
   "cell_type": "markdown",
   "id": "b5cdc8c1",
   "metadata": {},
   "source": [
    "The below example shows `automatic decoration syntax` and `manual decoration syntax`."
   ]
  },
  {
   "cell_type": "code",
   "execution_count": 4,
   "id": "f8725a72",
   "metadata": {},
   "outputs": [
    {
     "name": "stdout",
     "output_type": "stream",
     "text": [
      "\n",
      "Starting Execution!\n",
      "Hello World!\n",
      "Ending Execution!\n",
      "\n",
      "Starting Execution!\n",
      "Hello Joab!\n",
      "Ending Execution!\n"
     ]
    }
   ],
   "source": [
    "def func1():\n",
    "    print(\"Hello World!\")\n",
    "\n",
    "def my_decorator(fn):\n",
    "    def wrapper():\n",
    "        print()\n",
    "        print(\"Starting Execution!\")\n",
    "        fn()\n",
    "        print(\"Ending Execution!\")\n",
    "    return wrapper\n",
    "\n",
    "# manual decoration\n",
    "func1=my_decorator(func1)\n",
    "func1()\n",
    "\n",
    "# automatic decoration\n",
    "@my_decorator\n",
    "def func2():\n",
    "    print(\"Hello Joab!\")\n",
    "\n",
    "func2()"
   ]
  },
  {
   "cell_type": "markdown",
   "id": "0b260a86",
   "metadata": {},
   "source": [
    "Differences:\n",
    "- When we use the assignment way of decoration, both the undecorated and decorated versions of the function exist in the program. Before the assignment, if you use the function, you get the undecorated version while after the assignment statement you get the decorated version.\n",
    "- If you decorate a function using @ syntax, then only the decorated version exists in the program, because the function is decorated as soon as it is\n",
    "defined."
   ]
  },
  {
   "cell_type": "markdown",
   "id": "a3eec2cc",
   "metadata": {},
   "source": []
  }
 ],
 "metadata": {
  "kernelspec": {
   "display_name": "Python 3",
   "language": "python",
   "name": "python3"
  },
  "language_info": {
   "codemirror_mode": {
    "name": "ipython",
    "version": 3
   },
   "file_extension": ".py",
   "mimetype": "text/x-python",
   "name": "python",
   "nbconvert_exporter": "python",
   "pygments_lexer": "ipython3",
   "version": "3.12.0"
  }
 },
 "nbformat": 4,
 "nbformat_minor": 5
}
