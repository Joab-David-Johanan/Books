{
 "cells": [
  {
   "cell_type": "code",
   "execution_count": 3,
   "id": "70544904",
   "metadata": {},
   "outputs": [
    {
     "name": "stdout",
     "output_type": "stream",
     "text": [
      "Applied Decorator 1\n",
      "Applied Decorator 2\n",
      "Applied Decorator 3\n",
      "Hello\n"
     ]
    }
   ],
   "source": [
    "def decorator1(fn):\n",
    "    def wrapper(*args,**kwargs):\n",
    "        print('Applied Decorator 1')\n",
    "        result=fn(*args,**kwargs)\n",
    "        return result\n",
    "    return wrapper\n",
    "\n",
    "def decorator2(fn):\n",
    "    def wrapper(*args,**kwargs):\n",
    "        print('Applied Decorator 2')\n",
    "        result=fn(*args,**kwargs)\n",
    "        return result\n",
    "    return wrapper\n",
    "\n",
    "def decorator3(fn):\n",
    "    def wrapper(*args,**kwargs):\n",
    "        print('Applied Decorator 3')\n",
    "        result=fn(*args,**kwargs)\n",
    "        return result\n",
    "    return wrapper\n",
    "\n",
    "@decorator1\n",
    "@decorator2\n",
    "@decorator3\n",
    "def func():\n",
    "    print('Hello')\n",
    "\n",
    "func()"
   ]
  },
  {
   "cell_type": "markdown",
   "id": "07c6dc1b",
   "metadata": {},
   "source": [
    "**Explanation:**\n",
    "- `func = decorator1(decorator2(decorator3(func)))` when you execute `func()` you are actually calling the outermost wrapper from `decorator1` that wrapper calls the next inner wrapper from `decorator2`that one calls the next from `decorator3`, finally the innermost wrapper calls the original function.\n",
    "- Initially when `decorator3` decorates `func`, we see that `func=decorator3(func)` assigns that wrapped function back to the name `func`.\n",
    "- After this, the original function object defined by `def func()` is not referenced anymore (**unless a decorator keeps it in a closure, which ours does**). That’s why you cannot “call the undecorated version” unless you saved it somewhere before decoration."
   ]
  },
  {
   "cell_type": "code",
   "execution_count": 4,
   "id": "ef26df8a",
   "metadata": {},
   "outputs": [
    {
     "name": "stdout",
     "output_type": "stream",
     "text": [
      "HELLO!\n"
     ]
    }
   ],
   "source": [
    "def to_upper(fn):\n",
    "    def wrapper(*args, **kwargs):\n",
    "        return fn(*args, **kwargs).upper()\n",
    "    return wrapper\n",
    "\n",
    "def add_exclamation(fn):\n",
    "    def wrapper(*args, **kwargs):\n",
    "        return fn(*args, **kwargs) + \"!\"\n",
    "    return wrapper\n",
    "\n",
    "@to_upper\n",
    "@add_exclamation\n",
    "def greet():\n",
    "    return \"hello\"\n",
    "\n",
    "print(greet())"
   ]
  },
  {
   "cell_type": "markdown",
   "id": "80c13291",
   "metadata": {},
   "source": [
    "**Step 1 — Wrapping order (definition time):**\n",
    "- The decoration order is as follows `greet = to_upper(add_exclamation(greet))` which means first, `add_exclamation` wraps the original `greet` function then, `to_upper` wraps the result.\n",
    "\n",
    "\n",
    "**Step 2 — Calling order (runtime):**\n",
    "- `to_upper` runs first — but to do its `.upper()`, it first calls the function returned by `add_exclamation`.\n",
    "- `add_exclamation` runs — adds \"!\" to \"hello\" → \"hello!\".\n",
    "- `to_upper` resumes — turns \"hello!\" into \"HELLO!\". "
   ]
  },
  {
   "cell_type": "markdown",
   "id": "8008bd9c",
   "metadata": {},
   "source": [
    "**Summary:**\n",
    "- The wrapping order you wrote in code (`add_exclamation` then `to_upper`) even though the call order was `to_upper` then `add_exclamation`.\n",
    "- That’s because the outer decorator `to_upper` cannot finish its work until the inner one `add_exclamation` has produced a value, so the effects apply in the inner-to-outer sequence, even though the calls starts in the outer-to-inner sequence."
   ]
  },
  {
   "cell_type": "code",
   "execution_count": 9,
   "id": "de6045af",
   "metadata": {},
   "outputs": [
    {
     "name": "stdout",
     "output_type": "stream",
     "text": [
      "\n",
      "username was called\n",
      "args: ('joabdavid@gmail.com',) and kwargs:{}\n",
      "result:joabdavid\n",
      "\n",
      "username was called\n",
      "args: ('joashpaul@gmail.com',) and kwargs:{}\n",
      "result:joashpaul\n",
      "\n",
      "JOABDAVID JOASHPAUL\n"
     ]
    }
   ],
   "source": [
    "def trace(fn):\n",
    "    def wrapper(*args,**kwargs):\n",
    "        print()\n",
    "        print(f\"{fn.__name__} was called\")\n",
    "        print(f\"args: {args} and kwargs:{kwargs}\")\n",
    "        result=fn(*args,**kwargs)\n",
    "        print(f\"result:{result}\")\n",
    "        return result\n",
    "    return wrapper\n",
    "\n",
    "def capitalize(fn):\n",
    "    def wrapper(*args,**kwargs):\n",
    "        result=fn(*args,**kwargs)\n",
    "        return result.upper()\n",
    "    return wrapper\n",
    "\n",
    "@capitalize\n",
    "@trace\n",
    "def username(email_id):\n",
    "    return email_id[:email_id.index('@')]\n",
    "\n",
    "u1=username(\"joabdavid@gmail.com\")\n",
    "u2=username(\"joashpaul@gmail.com\")\n",
    "\n",
    "print()\n",
    "print(u1,u2)"
   ]
  },
  {
   "cell_type": "code",
   "execution_count": 11,
   "id": "ee4e88a8",
   "metadata": {},
   "outputs": [
    {
     "name": "stdout",
     "output_type": "stream",
     "text": [
      "\n",
      "wrapper was called\n",
      "args: () and kwargs:{'email_id': 'joabdavid@gmail.com'}\n",
      "result:JOABDAVID\n",
      "\n",
      "wrapper was called\n",
      "args: ('joashpaul@gmail.com',) and kwargs:{}\n",
      "result:JOASHPAUL\n",
      "\n",
      "JOABDAVID JOASHPAUL\n"
     ]
    }
   ],
   "source": [
    "def trace(fn):\n",
    "    def wrapper(*args,**kwargs):\n",
    "        print()\n",
    "        print(f\"{fn.__name__} was called\")\n",
    "        print(f\"args: {args} and kwargs:{kwargs}\")\n",
    "        result=fn(*args,**kwargs)\n",
    "        print(f\"result:{result}\")\n",
    "        return result\n",
    "    return wrapper\n",
    "\n",
    "def capitalize(fn):\n",
    "    def wrapper(*args,**kwargs):\n",
    "        result=fn(*args,**kwargs)\n",
    "        return result.upper()\n",
    "    return wrapper\n",
    "\n",
    "@trace\n",
    "@capitalize\n",
    "def username(email_id):\n",
    "    return email_id[:email_id.index('@')]\n",
    "\n",
    "u1=username(email_id=\"joabdavid@gmail.com\")\n",
    "u2=username(\"joashpaul@gmail.com\")\n",
    "\n",
    "print()\n",
    "print(u1,u2)"
   ]
  }
 ],
 "metadata": {
  "kernelspec": {
   "display_name": "Python 3",
   "language": "python",
   "name": "python3"
  },
  "language_info": {
   "codemirror_mode": {
    "name": "ipython",
    "version": 3
   },
   "file_extension": ".py",
   "mimetype": "text/x-python",
   "name": "python",
   "nbconvert_exporter": "python",
   "pygments_lexer": "ipython3",
   "version": "3.12.0"
  }
 },
 "nbformat": 4,
 "nbformat_minor": 5
}
