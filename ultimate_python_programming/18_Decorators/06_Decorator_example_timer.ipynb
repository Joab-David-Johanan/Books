{
 "cells": [
  {
   "cell_type": "markdown",
   "id": "9b4b8d43",
   "metadata": {},
   "source": [
    "<span style='background-color:orange'>**Timer Decorator:** we want to calculate the time that each function takes to execute.</span>"
   ]
  },
  {
   "cell_type": "code",
   "execution_count": 1,
   "id": "aba4e924",
   "metadata": {},
   "outputs": [
    {
     "name": "stdout",
     "output_type": "stream",
     "text": [
      "func1 took 1.1103770732879639 seconds\n",
      "\n",
      "func2 took 0.42294764518737793 seconds\n",
      "\n",
      "func3 took 2.20790696144104 seconds\n",
      "\n"
     ]
    }
   ],
   "source": [
    "def timer(fn):\n",
    "    def wrapper():\n",
    "        from time import time\n",
    "        start=time()\n",
    "        fn()\n",
    "        end=time()\n",
    "        print(f\"{fn.__name__} took {end-start} seconds\\n\")\n",
    "    return wrapper\n",
    "\n",
    "@timer\n",
    "def func1():\n",
    "    999**999999\n",
    "\n",
    "@timer\n",
    "def func2():\n",
    "    L=[x for x in range(9999999)]\n",
    "    L\n",
    "\n",
    "@timer\n",
    "def func3():\n",
    "    (45*999)**999999\n",
    "\n",
    "func1()\n",
    "func2()\n",
    "func3()\n"
   ]
  },
  {
   "cell_type": "markdown",
   "id": "21268fa0",
   "metadata": {},
   "source": [
    "**Notes:**\n",
    "- <span style='background-color:yellow'>If we did not create the **@timer** decorator then we should have repeated the code we wrote inside the decorator for each function which would have caused redundancy in our code, but by using the decorator function **@timer** we have created a reusable piece of code that can be applied to different functions.</span>"
   ]
  }
 ],
 "metadata": {
  "kernelspec": {
   "display_name": "Python 3",
   "language": "python",
   "name": "python3"
  },
  "language_info": {
   "codemirror_mode": {
    "name": "ipython",
    "version": 3
   },
   "file_extension": ".py",
   "mimetype": "text/x-python",
   "name": "python",
   "nbconvert_exporter": "python",
   "pygments_lexer": "ipython3",
   "version": "3.12.0"
  }
 },
 "nbformat": 4,
 "nbformat_minor": 5
}
