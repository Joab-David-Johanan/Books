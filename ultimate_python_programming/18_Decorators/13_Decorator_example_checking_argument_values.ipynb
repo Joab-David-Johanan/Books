{
 "cells": [
  {
   "cell_type": "markdown",
   "id": "962e167d",
   "metadata": {},
   "source": [
    "<span style='background-color:orange'>**Decorator Example for checking argument values:**</span>"
   ]
  },
  {
   "cell_type": "code",
   "execution_count": 6,
   "id": "0308c737",
   "metadata": {},
   "outputs": [
    {
     "name": "stdout",
     "output_type": "stream",
     "text": [
      "\n",
      "After adding positional arguments: (2,)\n",
      "After adding keyword arguments: (2, 4)\n",
      "\n",
      "After adding positional arguments: (50,)\n",
      "After adding keyword arguments: (50,)\n",
      "\n",
      "16 1225\n"
     ]
    }
   ],
   "source": [
    "def accepts_ints(fn):\n",
    "    def wrapper(*args,**kwargs):\n",
    "        print()\n",
    "        arguments=args\n",
    "        print(f\"After adding positional arguments: {arguments}\")\n",
    "        arguments+=tuple(kwargs.values())\n",
    "        print(f\"After adding keyword arguments: {arguments}\")\n",
    "        for argument in arguments:\n",
    "            if not isinstance(argument,int):\n",
    "                raise TypeError('This function accepts only integer arguments')\n",
    "        result=fn(*args,**kwargs)\n",
    "        return result\n",
    "    return wrapper\n",
    "\n",
    "@accepts_ints\n",
    "def func1(x, n):\n",
    "    return x ** n\n",
    "\n",
    "@accepts_ints\n",
    "def func2(n):\n",
    "    total = 0\n",
    "    for i in range (n):\n",
    "        total += i\n",
    "    return total\n",
    "\n",
    "x = func1(2, n=4)\n",
    "y = func2(50)\n",
    "\n",
    "print()\n",
    "print(x, y)"
   ]
  },
  {
   "cell_type": "markdown",
   "id": "5e469af5",
   "metadata": {},
   "source": [
    "Explanation:\n",
    "- When Python passes *args into your wrapper, it’s collected into a `tuple`. \n",
    "- The statement `func1(2, n=4)` gives **args=(2,)** which is a **tuple** and **kwargs={'n':4}** which is a **dictionary**.\n",
    "- When you assign `arguments=args` then `arguments` becomes `(2,)`.\n",
    "- The command `kwargs.values()` → means `dict_values([4])` and `tuple(kwargs.values())` → becomes `(4,)`.\n",
    "- So when you do `arguments = arguments + tuple(kwargs.values())` we get `(2,)+(4,)` which is `(2,4)`."
   ]
  },
  {
   "cell_type": "code",
   "execution_count": 5,
   "id": "26df51d6",
   "metadata": {},
   "outputs": [
    {
     "name": "stdout",
     "output_type": "stream",
     "text": [
      "\n",
      "After adding positional arguments: (2,)\n",
      "After adding keyword arguments: (2, 2.5)\n"
     ]
    },
    {
     "ename": "TypeError",
     "evalue": "This function accepts only integer arguments",
     "output_type": "error",
     "traceback": [
      "\u001b[31m---------------------------------------------------------------------------\u001b[39m",
      "\u001b[31mTypeError\u001b[39m                                 Traceback (most recent call last)",
      "\u001b[36mCell\u001b[39m\u001b[36m \u001b[39m\u001b[32mIn[5]\u001b[39m\u001b[32m, line 26\u001b[39m\n\u001b[32m     23\u001b[39m         total += i\n\u001b[32m     24\u001b[39m     \u001b[38;5;28;01mreturn\u001b[39;00m total\n\u001b[32m---> \u001b[39m\u001b[32m26\u001b[39m x = \u001b[43mfunc1\u001b[49m\u001b[43m(\u001b[49m\u001b[32;43m2\u001b[39;49m\u001b[43m,\u001b[49m\u001b[43m \u001b[49m\u001b[43mn\u001b[49m\u001b[43m=\u001b[49m\u001b[32;43m2.5\u001b[39;49m\u001b[43m)\u001b[49m\n\u001b[32m     27\u001b[39m y = func2(\u001b[32m50\u001b[39m)\n\u001b[32m     29\u001b[39m \u001b[38;5;28mprint\u001b[39m()\n",
      "\u001b[36mCell\u001b[39m\u001b[36m \u001b[39m\u001b[32mIn[5]\u001b[39m\u001b[32m, line 10\u001b[39m, in \u001b[36maccepts_ints.<locals>.wrapper\u001b[39m\u001b[34m(*args, **kwargs)\u001b[39m\n\u001b[32m      8\u001b[39m \u001b[38;5;28;01mfor\u001b[39;00m argument \u001b[38;5;129;01min\u001b[39;00m arguments:\n\u001b[32m      9\u001b[39m     \u001b[38;5;28;01mif\u001b[39;00m \u001b[38;5;129;01mnot\u001b[39;00m \u001b[38;5;28misinstance\u001b[39m(argument,\u001b[38;5;28mint\u001b[39m):\n\u001b[32m---> \u001b[39m\u001b[32m10\u001b[39m         \u001b[38;5;28;01mraise\u001b[39;00m \u001b[38;5;167;01mTypeError\u001b[39;00m(\u001b[33m'\u001b[39m\u001b[33mThis function accepts only integer arguments\u001b[39m\u001b[33m'\u001b[39m)\n\u001b[32m     11\u001b[39m result=fn(*args,**kwargs)\n\u001b[32m     12\u001b[39m \u001b[38;5;28;01mreturn\u001b[39;00m result\n",
      "\u001b[31mTypeError\u001b[39m: This function accepts only integer arguments"
     ]
    }
   ],
   "source": [
    "def accepts_ints(fn):\n",
    "    def wrapper(*args,**kwargs):\n",
    "        print()\n",
    "        arguments=args\n",
    "        print(f\"After adding positional arguments: {arguments}\")\n",
    "        arguments+=tuple(kwargs.values())\n",
    "        print(f\"After adding keyword arguments: {arguments}\")\n",
    "        for argument in arguments:\n",
    "            if not isinstance(argument,int):\n",
    "                raise TypeError('This function accepts only integer arguments')\n",
    "        result=fn(*args,**kwargs)\n",
    "        return result\n",
    "    return wrapper\n",
    "\n",
    "@accepts_ints\n",
    "def func1(x, n):\n",
    "    return x ** n\n",
    "\n",
    "@accepts_ints\n",
    "def func2(n):\n",
    "    total = 0\n",
    "    for i in range (n):\n",
    "        total += i\n",
    "    return total\n",
    "\n",
    "x = func1(2, n=2.5)\n",
    "y = func2(50)\n",
    "\n",
    "print()\n",
    "print(x, y)"
   ]
  }
 ],
 "metadata": {
  "kernelspec": {
   "display_name": "Python 3",
   "language": "python",
   "name": "python3"
  },
  "language_info": {
   "codemirror_mode": {
    "name": "ipython",
    "version": 3
   },
   "file_extension": ".py",
   "mimetype": "text/x-python",
   "name": "python",
   "nbconvert_exporter": "python",
   "pygments_lexer": "ipython3",
   "version": "3.12.0"
  }
 },
 "nbformat": 4,
 "nbformat_minor": 5
}
