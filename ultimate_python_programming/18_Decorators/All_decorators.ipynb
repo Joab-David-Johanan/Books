{
 "cells": [
  {
   "cell_type": "markdown",
   "id": "42ceb264",
   "metadata": {},
   "source": [
    "<span style='background-color:orange'>**Simple Decorator:**</span>\n",
    "- It executes a print statement before the original function execution and a print statement after the original function execution.\n",
    "- We use manual decoration syntax "
   ]
  },
  {
   "cell_type": "code",
   "execution_count": 2,
   "id": "beb7f382",
   "metadata": {},
   "outputs": [
    {
     "name": "stdout",
     "output_type": "stream",
     "text": [
      "Starting Execution!\n",
      "Hello World!\n",
      "Welcome to Python!\n",
      "Ending Execution!\n"
     ]
    }
   ],
   "source": [
    "def my_decorator(fn):\n",
    "    def wrapper():\n",
    "        print(\"Starting Execution!\")\n",
    "        fn()\n",
    "        print(\"Ending Execution!\")\n",
    "    return wrapper\n",
    "\n",
    "def example1():\n",
    "    print(\"Hello World!\")\n",
    "    print(\"Welcome to Python!\")\n",
    "\n",
    "# using manual decoration syntax\n",
    "example1=my_decorator(example1)\n",
    "\n",
    "example1()"
   ]
  },
  {
   "cell_type": "markdown",
   "id": "c5d39223",
   "metadata": {},
   "source": [
    "<span style='background-color:orange'>**Using automatic decoration Syntax:**</span>\n",
    "- We decorate multiple functions using the automatic decoration syntax.\n",
    "- After all decorators are reuseable pieces of code so we decorate different functions with the same decorator."
   ]
  },
  {
   "cell_type": "code",
   "execution_count": 5,
   "id": "f6662577",
   "metadata": {},
   "outputs": [
    {
     "name": "stdout",
     "output_type": "stream",
     "text": [
      "\n",
      "Starting execution...\n",
      "81\n",
      "Ending execution...\n",
      "\n",
      "Starting execution...\n",
      "Hello World!\n",
      "Ending execution...\n"
     ]
    }
   ],
   "source": [
    "def new_decorator(fn):\n",
    "    def wrapper():\n",
    "        print()\n",
    "        print(\"Starting execution...\")\n",
    "        fn()\n",
    "        print(\"Ending execution...\")\n",
    "    return wrapper\n",
    "\n",
    "@new_decorator\n",
    "def func1():\n",
    "    print(9**2)\n",
    "\n",
    "@new_decorator\n",
    "def func2():\n",
    "    print(\"Hello World!\")\n",
    "\n",
    "func1()\n",
    "func2()\n",
    "    "
   ]
  }
 ],
 "metadata": {
  "kernelspec": {
   "display_name": "Python 3",
   "language": "python",
   "name": "python3"
  },
  "language_info": {
   "codemirror_mode": {
    "name": "ipython",
    "version": 3
   },
   "file_extension": ".py",
   "mimetype": "text/x-python",
   "name": "python",
   "nbconvert_exporter": "python",
   "pygments_lexer": "ipython3",
   "version": "3.12.0"
  }
 },
 "nbformat": 4,
 "nbformat_minor": 5
}
