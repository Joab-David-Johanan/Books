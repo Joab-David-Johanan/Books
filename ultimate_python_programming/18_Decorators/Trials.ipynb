{
 "cells": [
  {
   "cell_type": "markdown",
   "id": "e66d9c20",
   "metadata": {},
   "source": [
    "**In this notebook we checkout different code examples to see the working of decorators**"
   ]
  },
  {
   "cell_type": "code",
   "execution_count": 6,
   "id": "8a4c8f4c",
   "metadata": {},
   "outputs": [
    {
     "name": "stdout",
     "output_type": "stream",
     "text": [
      "Hello World\n",
      "Hello World\n",
      "Hello World\n"
     ]
    },
    {
     "ename": "TypeError",
     "evalue": "'NoneType' object is not callable",
     "output_type": "error",
     "traceback": [
      "\u001b[31m---------------------------------------------------------------------------\u001b[39m",
      "\u001b[31mTypeError\u001b[39m                                 Traceback (most recent call last)",
      "\u001b[36mCell\u001b[39m\u001b[36m \u001b[39m\u001b[32mIn[6]\u001b[39m\u001b[32m, line 8\u001b[39m\n\u001b[32m      5\u001b[39m f2=fn()\n\u001b[32m      7\u001b[39m fn()\n\u001b[32m----> \u001b[39m\u001b[32m8\u001b[39m \u001b[43mf1\u001b[49m\u001b[43m(\u001b[49m\u001b[43m)\u001b[49m\n\u001b[32m      9\u001b[39m f2()\n",
      "\u001b[31mTypeError\u001b[39m: 'NoneType' object is not callable"
     ]
    }
   ],
   "source": [
    "def fn():\n",
    "    print(\"Hello World\")\n",
    "\n",
    "f1=fn()\n",
    "f2=fn()\n",
    "\n",
    "fn()\n",
    "f1()\n",
    "f2()"
   ]
  },
  {
   "cell_type": "markdown",
   "id": "65804006",
   "metadata": {},
   "source": [
    "1. f1=fn()\n",
    "- calls the function fn and executes the statements in the function body\n",
    "- produces the **first** `Hello World`\n",
    "- variable `f1` is assigned the value `None`\n",
    "2. f2=fn() \n",
    "- calls the function fn and executes the statements in the function body\n",
    "- produces the **second** `Hello World`\n",
    "- variable `f2` is assigned the value `None`\n",
    "3. fn()\n",
    "- calls the function fn and executes the statements in the function body\n",
    "- produces the **third** `Hello World`\n",
    "4. f1()\n",
    "- since the variable `f1` contains the value `None` it is not **callable**"
   ]
  },
  {
   "cell_type": "code",
   "execution_count": 5,
   "id": "17e9c2d1",
   "metadata": {},
   "outputs": [
    {
     "name": "stdout",
     "output_type": "stream",
     "text": [
      "Hello World\n",
      "Hello World\n",
      "Hello World\n",
      "None\n",
      "None\n"
     ]
    }
   ],
   "source": [
    "def fn():\n",
    "    print(\"Hello World\")\n",
    "    return\n",
    "\n",
    "f1=fn()\n",
    "f2=fn()\n",
    "\n",
    "fn()\n",
    "print(f1)\n",
    "print(f2)"
   ]
  },
  {
   "cell_type": "markdown",
   "id": "9ddc0cd6",
   "metadata": {},
   "source": [
    "So whenever we use,\n",
    "1. **var=fn()**\n",
    "- This calls the function `fn`, meaning the code inside the function body is **executed immediately**.\n",
    "- The result (i.e., the return value of `fn`) is assigned to `var`.\n",
    "- If `fn` does not explicitly return anything (i.e., no return statement or return without a value), Python returns `None` by default.\n",
    "\n",
    "2. **var=fn**\n",
    "- This does not call the function.\n",
    "- It simply assigns the function object that `fn` is referring to, to the variable `var`.\n",
    "- `var` can now be used as another name to refer to (or call) that function.\n",
    "\n",
    "3. **def fn():**\n",
    "- We know that `def` is an executable statement that creates a function object, so when the above `def` statement is executed, a function object is created and is assigned to name `fn`."
   ]
  },
  {
   "cell_type": "code",
   "execution_count": null,
   "id": "46b736f4",
   "metadata": {},
   "outputs": [
    {
     "name": "stdout",
     "output_type": "stream",
     "text": [
      "Starting Execution!\n",
      "Hello World!\n",
      "Welcome to Python!\n",
      "Ending Execution!\n"
     ]
    }
   ],
   "source": [
    "# Example of using a deocrator that is not a nested function\n",
    "\n",
    "def example():\n",
    "    print(\"Hello World!\")\n",
    "    print(\"Welcome to Python!\")\n",
    "\n",
    "def actual_decorator(fn):\n",
    "    print(\"Starting Execution!\")\n",
    "    fn()\n",
    "    print(\"Ending Execution!\")\n",
    "    \n",
    "# Note: This code works only once as after the below code is executed, example has the value None\n",
    "# this is because the actual_decorator function does not explicitly return any value so None is returned when it is called.\n",
    "example=actual_decorator(example)"
   ]
  },
  {
   "cell_type": "code",
   "execution_count": 2,
   "id": "79a68cfe",
   "metadata": {},
   "outputs": [
    {
     "ename": "TypeError",
     "evalue": "'NoneType' object is not callable",
     "output_type": "error",
     "traceback": [
      "\u001b[31m---------------------------------------------------------------------------\u001b[39m",
      "\u001b[31mTypeError\u001b[39m                                 Traceback (most recent call last)",
      "\u001b[36mCell\u001b[39m\u001b[36m \u001b[39m\u001b[32mIn[2]\u001b[39m\u001b[32m, line 1\u001b[39m\n\u001b[32m----> \u001b[39m\u001b[32m1\u001b[39m \u001b[43mexample\u001b[49m\u001b[43m(\u001b[49m\u001b[43m)\u001b[49m\n",
      "\u001b[31mTypeError\u001b[39m: 'NoneType' object is not callable"
     ]
    }
   ],
   "source": [
    "example()"
   ]
  },
  {
   "cell_type": "code",
   "execution_count": null,
   "id": "2c28ee08",
   "metadata": {},
   "outputs": [
    {
     "name": "stdout",
     "output_type": "stream",
     "text": [
      "Starting Execution!\n",
      "Hello World!\n",
      "Welcome to Python!\n",
      "Ending Execution!\n"
     ]
    }
   ],
   "source": [
    "# Example of using a deocrator that is not a nested function\n",
    "\n",
    "def example():\n",
    "    print(\"Hello World!\")\n",
    "    print(\"Welcome to Python!\")\n",
    "\n",
    "def actual_decorator(fn):\n",
    "    print(\"Starting Execution!\")\n",
    "    fn()\n",
    "    print(\"Ending Execution!\")\n",
    "    return actual_decorator\n",
    "\n",
    "# Note: Now example refers to the function object created by def actual_decorator(fn): not the statement def example():\n",
    "example=actual_decorator(example)"
   ]
  },
  {
   "cell_type": "code",
   "execution_count": null,
   "id": "c41b39df",
   "metadata": {},
   "outputs": [
    {
     "ename": "TypeError",
     "evalue": "actual_decorator() missing 1 required positional argument: 'fn'",
     "output_type": "error",
     "traceback": [
      "\u001b[31m---------------------------------------------------------------------------\u001b[39m",
      "\u001b[31mTypeError\u001b[39m                                 Traceback (most recent call last)",
      "\u001b[36mCell\u001b[39m\u001b[36m \u001b[39m\u001b[32mIn[4]\u001b[39m\u001b[32m, line 2\u001b[39m\n\u001b[32m      1\u001b[39m \u001b[38;5;66;03m# trying to call example again\u001b[39;00m\n\u001b[32m----> \u001b[39m\u001b[32m2\u001b[39m \u001b[43mexample\u001b[49m\u001b[43m(\u001b[49m\u001b[43m)\u001b[49m\n",
      "\u001b[31mTypeError\u001b[39m: actual_decorator() missing 1 required positional argument: 'fn'"
     ]
    }
   ],
   "source": [
    "# trying to call example again\n",
    "# So, when example() is called, actual_decorator(fn) is called which requires a positional argument.\n",
    "example()"
   ]
  },
  {
   "cell_type": "code",
   "execution_count": 5,
   "id": "cef543c0",
   "metadata": {},
   "outputs": [
    {
     "name": "stdout",
     "output_type": "stream",
     "text": [
      "Starting Execution!\n"
     ]
    },
    {
     "ename": "TypeError",
     "evalue": "actual_decorator() missing 1 required positional argument: 'fn'",
     "output_type": "error",
     "traceback": [
      "\u001b[31m---------------------------------------------------------------------------\u001b[39m",
      "\u001b[31mTypeError\u001b[39m                                 Traceback (most recent call last)",
      "\u001b[36mCell\u001b[39m\u001b[36m \u001b[39m\u001b[32mIn[5]\u001b[39m\u001b[32m, line 2\u001b[39m\n\u001b[32m      1\u001b[39m \u001b[38;5;66;03m# But trying to pass example(example) actually means actual_decorator(actual_decorator())--->which is still missing a positional argument.\u001b[39;00m\n\u001b[32m----> \u001b[39m\u001b[32m2\u001b[39m \u001b[43mexample\u001b[49m\u001b[43m(\u001b[49m\u001b[43mexample\u001b[49m\u001b[43m)\u001b[49m\n",
      "\u001b[36mCell\u001b[39m\u001b[36m \u001b[39m\u001b[32mIn[3]\u001b[39m\u001b[32m, line 9\u001b[39m, in \u001b[36mactual_decorator\u001b[39m\u001b[34m(fn)\u001b[39m\n\u001b[32m      7\u001b[39m \u001b[38;5;28;01mdef\u001b[39;00m\u001b[38;5;250m \u001b[39m\u001b[34mactual_decorator\u001b[39m(fn):\n\u001b[32m      8\u001b[39m     \u001b[38;5;28mprint\u001b[39m(\u001b[33m\"\u001b[39m\u001b[33mStarting Execution!\u001b[39m\u001b[33m\"\u001b[39m)\n\u001b[32m----> \u001b[39m\u001b[32m9\u001b[39m     \u001b[43mfn\u001b[49m\u001b[43m(\u001b[49m\u001b[43m)\u001b[49m\n\u001b[32m     10\u001b[39m     \u001b[38;5;28mprint\u001b[39m(\u001b[33m\"\u001b[39m\u001b[33mEnding Execution!\u001b[39m\u001b[33m\"\u001b[39m)\n\u001b[32m     11\u001b[39m     \u001b[38;5;28;01mreturn\u001b[39;00m actual_decorator\n",
      "\u001b[31mTypeError\u001b[39m: actual_decorator() missing 1 required positional argument: 'fn'"
     ]
    }
   ],
   "source": [
    "# But trying to pass example(example) actually means actual_decorator(actual_decorator())--->which is still missing a positional argument.\n",
    "example(example)"
   ]
  },
  {
   "cell_type": "code",
   "execution_count": 11,
   "id": "c0f7212b",
   "metadata": {},
   "outputs": [
    {
     "name": "stdout",
     "output_type": "stream",
     "text": [
      "Starting Execution!\n",
      "Hello World!\n",
      "Welcome to Python!\n",
      "Ending Execution!\n"
     ]
    }
   ],
   "source": [
    "# Example of using a deocrator that is not a nested function\n",
    "\n",
    "def example():\n",
    "    print(\"Hello World!\")\n",
    "    print(\"Welcome to Python!\")\n",
    "\n",
    "def actual_decorator(fn):\n",
    "    print(\"Starting Execution!\")\n",
    "    fn()\n",
    "    print(\"Ending Execution!\")\n",
    "    return actual_decorator\n",
    "\n",
    "some_other_example= actual_decorator(example)"
   ]
  },
  {
   "cell_type": "code",
   "execution_count": null,
   "id": "41a198f8",
   "metadata": {},
   "outputs": [
    {
     "name": "stdout",
     "output_type": "stream",
     "text": [
      "Starting Execution!\n",
      "Hello World!\n",
      "Welcome to Python!\n",
      "Ending Execution!\n"
     ]
    }
   ],
   "source": [
    "# calling it again\n",
    "# this works because some_other_example refers to the function object created by def actual_decorator(fn) \n",
    "# and when we call this function we pass it the positional argument needed which is the example function.\n",
    "some_other_example= actual_decorator(example)"
   ]
  },
  {
   "cell_type": "code",
   "execution_count": 4,
   "id": "5b4d4caf",
   "metadata": {},
   "outputs": [],
   "source": [
    "def something():\n",
    "    print(\"Hi\")\n",
    "    something()\n"
   ]
  },
  {
   "cell_type": "markdown",
   "id": "cd4c749e",
   "metadata": {},
   "source": [
    "Reason why no output is printed:\n",
    "- When you define a function with `def something():` ..., Python does not run the code inside it right away. It just stores the instructions under the name `something`.\n"
   ]
  },
  {
   "cell_type": "code",
   "execution_count": 3,
   "id": "a19687cc",
   "metadata": {},
   "outputs": [],
   "source": [
    "def something():\n",
    "    something()\n",
    "\n",
    "#something()"
   ]
  },
  {
   "cell_type": "markdown",
   "id": "d4c3f7b6",
   "metadata": {},
   "source": [
    "Reason for output:\n",
    "- That `something()` call inside the function will only execute if the function is already running.\n",
    "But for it to start running in the first place, you need the first external call which is why we write the statement `something()` outside the function in order to call the function.\n",
    "- Now when the function is called it executes the `Hi` but then it encounters `something()` which ends up calling the function again and printing `Hi` and this enounters `something()` and so it call the function again and so on...this process of calling a function inside itself is called `recursion`.\n",
    "\n",
    "- <span style='background-color:yellow'>**Recursion:** Recursion is a programming technique where a function solves a problem by calling itself (directly or indirectly), until it reaches a condition (the base case) that stops the calls.</span>\n",
    "\n",
    "- In our case there is no base condition that stops the calls hence the maximum recursion depth is exceeded causing the `RecursionError`."
   ]
  },
  {
   "cell_type": "markdown",
   "id": "5d66bd96",
   "metadata": {},
   "source": [
    "**Example of Recursion with a base condition:**\n",
    "- Below is an example of recursion with a base condition to stop the function call.\n",
    "- When `num` is less than `1` the function call within the function is not executed."
   ]
  },
  {
   "cell_type": "code",
   "execution_count": 1,
   "id": "8182b1b1",
   "metadata": {},
   "outputs": [
    {
     "name": "stdout",
     "output_type": "stream",
     "text": [
      "5\n",
      "4\n",
      "3\n",
      "2\n",
      "1\n"
     ]
    }
   ],
   "source": [
    "def print_five(num):\n",
    "    print(num)\n",
    "    num-=1\n",
    "    if num>=1:\n",
    "        print_five(num)\n",
    "\n",
    "\n",
    "print_five(5)"
   ]
  },
  {
   "cell_type": "code",
   "execution_count": 6,
   "id": "6038cf89",
   "metadata": {},
   "outputs": [
    {
     "name": "stdout",
     "output_type": "stream",
     "text": [
      "Hi this is the outer function being called\n",
      "Starting Execution............\n",
      "Hello World!\n",
      "Welcome to Python!\n",
      "Ending Execution............\n"
     ]
    }
   ],
   "source": [
    "def func1():\n",
    "    print(\"Hello World!\")\n",
    "    print(\"Welcome to Python!\")\n",
    "\n",
    "def my_decorator(fn):\n",
    "    def wrapper():\n",
    "        # Place code to be executed before the function call\n",
    "        print(\"Starting Execution............\")\n",
    "        # Here we call the function\n",
    "        fn()\n",
    "        # Place code to be executed after the function call\n",
    "        print(\"Ending Execution............\")\n",
    "    print(\"Hi this is the outer function being called\")\n",
    "    return wrapper\n",
    "\n",
    "func1=my_decorator(func1)\n",
    "func1()"
   ]
  },
  {
   "cell_type": "markdown",
   "id": "b1f8a6f0",
   "metadata": {},
   "source": [
    "Steps:\n",
    "- When `func1=my_decorator(func1)` is executed it calls the `my_decorator` function and since this is the outer function it only sees the following: `def wrapper():..some code...`, `print('Hi this is the outer function being called')` and `return wrapper` so only the print statment is printed to the console while the remaining two statements are used to define an inner-function and return a value respectively.\n",
    "- Once the value of the outer function `my_decorator` is returned to `func1` it holds the function object referring to the function `wrapper`.\n",
    "- when `func1()` is called, it calls the function `wrapper()` which executes all the statements inside it."
   ]
  },
  {
   "cell_type": "code",
   "execution_count": 6,
   "id": "d80811da",
   "metadata": {},
   "outputs": [
    {
     "name": "stdout",
     "output_type": "stream",
     "text": [
      "Hello World!\n",
      "Welcome to Python\n",
      "\n",
      "See you later!\n",
      "\n",
      "Hello World!\n",
      "Welcome to Python\n",
      "See you later!\n"
     ]
    }
   ],
   "source": [
    "def func5():\n",
    "    print(\"Hello World!\")\n",
    "    print(\"Welcome to Python\\n\") # prints a blank line next\n",
    "    print(\"See you later!\")\n",
    "\n",
    "def func6():\n",
    "    print() # prints an empty line\n",
    "    print(\"Hello World!\")\n",
    "    print(\"Welcome to Python\")\n",
    "    print(\"See you later!\")\n",
    "\n",
    "func5()\n",
    "func6()"
   ]
  },
  {
   "cell_type": "markdown",
   "id": "ebcaeaec",
   "metadata": {},
   "source": [
    "Explanation of the steps:\n",
    "- The statement `print(\"Welcome to Python\\n\")` already ends with a newline character (`\\n`), which means after printing `Welcome to Python`, it moves to the next line once.\n",
    "- But since `print()` by default also adds another newline after whatever it prints, because the default end parameter in print is `\\n`. The total effect is one newline from `\\n` inside the string and one newline from the default print ending so we get `two new lines` in total making the next line a blank line. "
   ]
  },
  {
   "cell_type": "code",
   "execution_count": null,
   "id": "a8827b7d",
   "metadata": {},
   "outputs": [
    {
     "ename": "TypeError",
     "evalue": "funcc() missing 1 required positional argument: 'fn'",
     "output_type": "error",
     "traceback": [
      "\u001b[31m---------------------------------------------------------------------------\u001b[39m",
      "\u001b[31mTypeError\u001b[39m                                 Traceback (most recent call last)",
      "\u001b[36mCell\u001b[39m\u001b[36m \u001b[39m\u001b[32mIn[3]\u001b[39m\u001b[32m, line 9\u001b[39m\n\u001b[32m      6\u001b[39m     \u001b[38;5;28;01mreturn\u001b[39;00m fn\n\u001b[32m      8\u001b[39m func=funcc\n\u001b[32m----> \u001b[39m\u001b[32m9\u001b[39m \u001b[43mfunc\u001b[49m\u001b[43m(\u001b[49m\u001b[43mfunc\u001b[49m\u001b[43m)\u001b[49m\n",
      "\u001b[36mCell\u001b[39m\u001b[36m \u001b[39m\u001b[32mIn[3]\u001b[39m\u001b[32m, line 5\u001b[39m, in \u001b[36mfuncc\u001b[39m\u001b[34m(fn)\u001b[39m\n\u001b[32m      4\u001b[39m \u001b[38;5;28;01mdef\u001b[39;00m\u001b[38;5;250m \u001b[39m\u001b[34mfuncc\u001b[39m(fn):\n\u001b[32m----> \u001b[39m\u001b[32m5\u001b[39m     \u001b[43mfn\u001b[49m\u001b[43m(\u001b[49m\u001b[43m)\u001b[49m\n\u001b[32m      6\u001b[39m     \u001b[38;5;28;01mreturn\u001b[39;00m fn\n",
      "\u001b[31mTypeError\u001b[39m: funcc() missing 1 required positional argument: 'fn'"
     ]
    }
   ],
   "source": [
    "def func():\n",
    "    print(\"Hello World\")\n",
    "\n",
    "def something(fn):\n",
    "    fn()\n",
    "    return fn\n",
    "\n",
    "func=something\n",
    "func(func)"
   ]
  },
  {
   "cell_type": "markdown",
   "id": "425ed7bc",
   "metadata": {},
   "source": [
    "Steps breakdown:\n",
    "- `func=something` assigns the function object created by `def something(fn):` to `func`. Now `func` no longer refers to the function object created by \n",
    "`def func()`.\n",
    "- `func(func)` calls `something(something)` but something requires a parameter `fn` so we get an error."
   ]
  },
  {
   "cell_type": "code",
   "execution_count": 6,
   "id": "43aa1263",
   "metadata": {},
   "outputs": [
    {
     "name": "stdout",
     "output_type": "stream",
     "text": [
      "Hello World!\n"
     ]
    },
    {
     "data": {
      "text/plain": [
       "<function __main__.hello()>"
      ]
     },
     "execution_count": 6,
     "metadata": {},
     "output_type": "execute_result"
    }
   ],
   "source": [
    "def hello():\n",
    "    print(\"Hello World!\")\n",
    "\n",
    "def something(fn):\n",
    "    fn()\n",
    "    return fn\n",
    "\n",
    "func=something\n",
    "func(hello)"
   ]
  },
  {
   "cell_type": "markdown",
   "id": "09391eb7",
   "metadata": {},
   "source": [
    "Steps breakdown:\n",
    "- `func=something` assigns the function object created by `def something(fn):` to `func`. Now `func` no longer refers to the function object created by \n",
    "`def func()`.\n",
    "- `func(hello)` calls `something(hello)` so the hello function executes producing the output `Hello World!`.\n",
    "- Jupyter sees that the last statement in the cell is `func(hello)` → it displays its return value → which is what is returned inside the function `something(fn)`."
   ]
  },
  {
   "cell_type": "markdown",
   "id": "463b0b3f",
   "metadata": {},
   "source": []
  },
  {
   "cell_type": "code",
   "execution_count": 13,
   "id": "06a118f0",
   "metadata": {},
   "outputs": [
    {
     "name": "stdout",
     "output_type": "stream",
     "text": [
      "Hello World!\n",
      "Hello World!\n"
     ]
    }
   ],
   "source": [
    "def hello():\n",
    "    print(\"Hello World!\")\n",
    "\n",
    "def something(fn):\n",
    "    fn()\n",
    "    return fn\n",
    "\n",
    "func=something(hello)\n",
    "func()"
   ]
  },
  {
   "cell_type": "markdown",
   "id": "968a662f",
   "metadata": {},
   "source": [
    "Steps:\n",
    "- The statement `func=something(hello)` calls the function `something` with the argument `hello` for the parameter `fn`.\n",
    "- The statement `func=something(hello)` returns the function object referring to `fn` which is `hello` to the variable `func`.\n",
    "- `func()` calls `hello` which executes the second `Hello World!` statement."
   ]
  },
  {
   "cell_type": "markdown",
   "id": "e6e64b16",
   "metadata": {},
   "source": []
  }
 ],
 "metadata": {
  "kernelspec": {
   "display_name": "Python 3",
   "language": "python",
   "name": "python3"
  },
  "language_info": {
   "codemirror_mode": {
    "name": "ipython",
    "version": 3
   },
   "file_extension": ".py",
   "mimetype": "text/x-python",
   "name": "python",
   "nbconvert_exporter": "python",
   "pygments_lexer": "ipython3",
   "version": "3.12.0"
  }
 },
 "nbformat": 4,
 "nbformat_minor": 5
}
