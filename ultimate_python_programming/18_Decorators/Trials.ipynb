{
 "cells": [
  {
   "cell_type": "markdown",
   "id": "e66d9c20",
   "metadata": {},
   "source": [
    "**In this notebook we checkout different code examples to see the working of decorators**"
   ]
  },
  {
   "cell_type": "code",
   "execution_count": 6,
   "id": "8a4c8f4c",
   "metadata": {},
   "outputs": [
    {
     "name": "stdout",
     "output_type": "stream",
     "text": [
      "Hello World\n",
      "Hello World\n",
      "Hello World\n"
     ]
    },
    {
     "ename": "TypeError",
     "evalue": "'NoneType' object is not callable",
     "output_type": "error",
     "traceback": [
      "\u001b[31m---------------------------------------------------------------------------\u001b[39m",
      "\u001b[31mTypeError\u001b[39m                                 Traceback (most recent call last)",
      "\u001b[36mCell\u001b[39m\u001b[36m \u001b[39m\u001b[32mIn[6]\u001b[39m\u001b[32m, line 8\u001b[39m\n\u001b[32m      5\u001b[39m f2=fn()\n\u001b[32m      7\u001b[39m fn()\n\u001b[32m----> \u001b[39m\u001b[32m8\u001b[39m \u001b[43mf1\u001b[49m\u001b[43m(\u001b[49m\u001b[43m)\u001b[49m\n\u001b[32m      9\u001b[39m f2()\n",
      "\u001b[31mTypeError\u001b[39m: 'NoneType' object is not callable"
     ]
    }
   ],
   "source": [
    "def fn():\n",
    "    print(\"Hello World\")\n",
    "\n",
    "f1=fn()\n",
    "f2=fn()\n",
    "\n",
    "fn()\n",
    "f1()\n",
    "f2()"
   ]
  },
  {
   "cell_type": "markdown",
   "id": "65804006",
   "metadata": {},
   "source": [
    "1. f1=fn()\n",
    "- calls the function fn and executes the statements in the function body\n",
    "- produces the **first** `Hello World`\n",
    "- variable `f1` is assigned the value `None`\n",
    "2. f2=fn() \n",
    "- calls the function fn and executes the statements in the function body\n",
    "- produces the **second** `Hello World`\n",
    "- variable `f2` is assigned the value `None`\n",
    "3. fn()\n",
    "- calls the function fn and executes the statements in the function body\n",
    "- produces the **third** `Hello World`\n",
    "4. f1()\n",
    "- since the variable `f1` contains the value `None` it is not **callable**"
   ]
  },
  {
   "cell_type": "code",
   "execution_count": 5,
   "id": "17e9c2d1",
   "metadata": {},
   "outputs": [
    {
     "name": "stdout",
     "output_type": "stream",
     "text": [
      "Hello World\n",
      "Hello World\n",
      "Hello World\n",
      "None\n",
      "None\n"
     ]
    }
   ],
   "source": [
    "def fn():\n",
    "    print(\"Hello World\")\n",
    "    return\n",
    "\n",
    "f1=fn()\n",
    "f2=fn()\n",
    "\n",
    "fn()\n",
    "print(f1)\n",
    "print(f2)"
   ]
  },
  {
   "cell_type": "markdown",
   "id": "9ddc0cd6",
   "metadata": {},
   "source": [
    "So whenever we use,\n",
    "1. var=fn()\n",
    "- This calls the function fn, meaning the code inside the function body is **executed immediately**.\n",
    "- The result (i.e., the return value of fn) is assigned to `var`.\n",
    "- If fn does not explicitly return anything (i.e., no return statement or return without a value), Python returns `None` by default.\n",
    "\n",
    "2. var=fn\n",
    "- This does not call the function.\n",
    "- It simply assigns the function object that fn is referring to, to the variable `var`.\n",
    "- `var` can now be used as another name to refer to (or call) that function.\n",
    "\n",
    "3. def fn():\n",
    "- We know that `def` is an executable statement that creates a function object, so when the above `def` statement is executed, a function object is created and is assigned to name `fn`."
   ]
  },
  {
   "cell_type": "markdown",
   "id": "46b736f4",
   "metadata": {},
   "source": []
  },
  {
   "cell_type": "markdown",
   "id": "c0bbaf69",
   "metadata": {},
   "source": [
    "<span style=\"background-color: red\">Your sentence</span>"
   ]
  },
  {
   "cell_type": "markdown",
   "id": "5b4d4caf",
   "metadata": {},
   "source": []
  }
 ],
 "metadata": {
  "kernelspec": {
   "display_name": "Python 3",
   "language": "python",
   "name": "python3"
  },
  "language_info": {
   "codemirror_mode": {
    "name": "ipython",
    "version": 3
   },
   "file_extension": ".py",
   "mimetype": "text/x-python",
   "name": "python",
   "nbconvert_exporter": "python",
   "pygments_lexer": "ipython3",
   "version": "3.12.0"
  }
 },
 "nbformat": 4,
 "nbformat_minor": 5
}
