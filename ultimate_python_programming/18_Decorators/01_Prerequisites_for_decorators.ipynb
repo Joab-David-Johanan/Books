{
 "cells": [
  {
   "cell_type": "markdown",
   "id": "38eb630e",
   "metadata": {},
   "source": [
    "<span style=\"background-color: orange\">**Concept 1:** Functions are first-class objects in python</span>\n",
    "\n",
    "\n",
    "We need to understand that functions are first-class objects in python this means that,\n",
    "\n",
    "1. Functions can be assigned to different variables.\n",
    "2. Functions can be sent as argument to a function.\n",
    "3. Functions can be returned from a function.\n",
    "4. Functions can be stored in data structures like lists, dicts, etc."
   ]
  },
  {
   "cell_type": "code",
   "execution_count": null,
   "id": "6c2ad55b",
   "metadata": {},
   "outputs": [],
   "source": [
    "# 1. Function being assigned to different variables\n",
    "\n",
    "def fn():\n",
    "    print(\"Hello World!\")\n",
    "\n",
    "f1=fn\n",
    "f2=fn\n",
    "\n",
    "fn()\n",
    "f1()\n",
    "f2()"
   ]
  },
  {
   "cell_type": "code",
   "execution_count": null,
   "id": "c7154423",
   "metadata": {},
   "outputs": [
    {
     "name": "stdout",
     "output_type": "stream",
     "text": [
      "Hello World!\n"
     ]
    }
   ],
   "source": [
    "# 2. Example of a function that accepts a function as argument\n",
    "\n",
    "def func():\n",
    "    print(\"Hello World!\")\n",
    "\n",
    "def func1(f):\n",
    "    f()\n",
    "\n",
    "func1(func)"
   ]
  },
  {
   "cell_type": "markdown",
   "id": "3c781c9d",
   "metadata": {},
   "source": [
    "In the definition of function `func1`, the parameter name is `f`, so for the function call `func1(func)`, `f` refers to the same function object to which `func` is referring to. Thus, inside the function when the statement `f()` is executed, the function `func` gets called."
   ]
  },
  {
   "cell_type": "code",
   "execution_count": 3,
   "id": "29523033",
   "metadata": {},
   "outputs": [
    {
     "name": "stdout",
     "output_type": "stream",
     "text": [
      "4\n"
     ]
    }
   ],
   "source": [
    "# 3. Example of a function being returned from a function\n",
    "\n",
    "def g():\n",
    "    print(2+2)\n",
    "\n",
    "def func2():\n",
    "    return g\n",
    "\n",
    "f3=func2()\n",
    "f3()"
   ]
  },
  {
   "cell_type": "markdown",
   "id": "776426c4",
   "metadata": {},
   "source": [
    "Steps in sequence:\n",
    "\n",
    "- `def g()` creates a function object and assigns it to the name `g`.\n",
    "- The function object is created when `g` is defined, and the name `g` refers to it.\n",
    "- `func2` is a function that returns the function `g`.\n",
    "- `f3 = func2()` calls `func2`, so `f3` is assigned the function object returned by `func2` (which is `g`).\n",
    "- The function `g` is the return value of `func2` so the `function object` referred to by the name `g` is also assigned to the variable `f3`.\n",
    "- Since `f3` holds actually refers to a `function object` it is callable and hence we can write `f3()`.\n",
    "\n",
    "<span style=\"background-color: yellow\">NOTE: The functions that accept a function as an argument or return a function are called higher-order functions.</span>"
   ]
  },
  {
   "cell_type": "markdown",
   "id": "4e9fc870",
   "metadata": {},
   "source": [
    "<span style=\"background-color: orange\">**Concept 2:** Nested Functions, Closures and Free variables</span>"
   ]
  },
  {
   "cell_type": "code",
   "execution_count": 9,
   "id": "c26d9705",
   "metadata": {},
   "outputs": [
    {
     "name": "stdout",
     "output_type": "stream",
     "text": [
      "h\n"
     ]
    }
   ],
   "source": [
    "def func3():\n",
    "    def h():\n",
    "        pass\n",
    "    h()\n",
    "    return h\n",
    "\n",
    "var=func3()\n",
    "var()\n",
    "print(var.__name__)"
   ]
  },
  {
   "cell_type": "markdown",
   "id": "3d3d1afb",
   "metadata": {},
   "source": [
    "Nested functions:\n",
    "- It is possible to define a function inside the definition of another function,\n",
    "which means that inside the body of a function, we can write a `def statement`.\n",
    "- Now, whenever the function `func3` will be called, the def statement inside\n",
    "it will be executed, and it will create a function object that will be assigned\n",
    "to name `h`. \n",
    "- The name `h` is local to the function `func3`, so it can be used inside this function only. You cannot call the function `h` outside the function `func3`. If you want to call it, you have to call it inside this function.\n",
    "- The statement `return h` means that the function object to which `h` refers is being returned from the function. We have called function `func3` and assigned the return value to name `var`.\n",
    "- <span style='background-color:red'>So, the name **var** refers to the function object created by the def statement that defined **h**.</span>\n",
    "\n",
    "<span style='background-color:yellow'>Conclusion: We can say that **var** becomes an alias for the inner function **h**, and so when we call **var**, we are actually calling the function **h**. If you access the name attribute of **var**, it will print **h**. So, you cannot directly call the function **h** outside of **func3**, because of its local scope. But if you return it from **func3**, you can indirectly access it.</span>"
   ]
  },
  {
   "cell_type": "code",
   "execution_count": 12,
   "id": "4ae39c00",
   "metadata": {},
   "outputs": [
    {
     "name": "stdout",
     "output_type": "stream",
     "text": [
      "10\n",
      "Hello World!\n",
      "10\n",
      "Hello World!\n"
     ]
    }
   ],
   "source": [
    "def func():\n",
    "    print(\"Hello World!\")\n",
    "\n",
    "def func3(f):\n",
    "    x=10\n",
    "    def h():\n",
    "        print(x)\n",
    "        f()\n",
    "    h()\n",
    "    return h\n",
    "\n",
    "var=func3(func)\n",
    "var()"
   ]
  },
  {
   "cell_type": "markdown",
   "id": "18a38740",
   "metadata": {},
   "source": [
    "Steps breakdown:\n",
    "- Here, you pass `func` into `func3` as `f`. Inside `func3` we have `x = 10` and `h()` and this prints `10` and calls `func()`, which prints `Hello World!`\n",
    "- Then `func3` returns the `h` function to `var`.\n",
    "- Just because `h()` is inside `func3()` does not mean it will automatically execute the inner function. The inner function has to be called in order for it to be executed.\n",
    "- The statement `var()` executes `h()` and so it prints `10` and `Hello World!` again.\n",
    "- <span style='background-color:yellow'>Now **var** is the same as **h** — but **x** and **f** are remembered because **h** is a **closure**.</span>\n",
    "- <span style='background-color:yellow'>Inside this inner function **h()**, the variables **x** and **f** are called **free variables**.</span>\n",
    "\n",
    "<span style='background-color:red'>**Conclusion:** This inner function **h()**, along with the free variables, is a **closure**. Therefore, a **closure** is an inner function that has access to and remembers the variables in the scope of the outer function, even when the outer function has finished executing.</span>"
   ]
  },
  {
   "cell_type": "markdown",
   "id": "be231bdb",
   "metadata": {},
   "source": []
  }
 ],
 "metadata": {
  "kernelspec": {
   "display_name": "Python 3",
   "language": "python",
   "name": "python3"
  },
  "language_info": {
   "codemirror_mode": {
    "name": "ipython",
    "version": 3
   },
   "file_extension": ".py",
   "mimetype": "text/x-python",
   "name": "python",
   "nbconvert_exporter": "python",
   "pygments_lexer": "ipython3",
   "version": "3.12.0"
  }
 },
 "nbformat": 4,
 "nbformat_minor": 5
}
