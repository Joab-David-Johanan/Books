{
 "cells": [
  {
   "cell_type": "markdown",
   "id": "38eb630e",
   "metadata": {},
   "source": [
    "<span style=\"background-color: red\">Functions are first-class objects in python</span>\n",
    "\n",
    "\n",
    "We need to understand that functions are first-class objects in python this means that,\n",
    "\n",
    "1. Functions can be assigned to different variables\n",
    "2. Functions can be sent as argument to a function\n",
    "3. Functions can be returned from a function\n",
    "4. Functions can be stored in data structures like lists, dicts, etc."
   ]
  },
  {
   "cell_type": "code",
   "execution_count": null,
   "id": "6c2ad55b",
   "metadata": {},
   "outputs": [],
   "source": [
    "# 1. Function being assigned to different variables\n",
    "\n",
    "def fn():\n",
    "    print(\"Hello World!\")\n",
    "\n",
    "f1=fn\n",
    "f2=fn\n",
    "\n",
    "fn()\n",
    "f1()\n",
    "f2()"
   ]
  },
  {
   "cell_type": "code",
   "execution_count": null,
   "id": "c7154423",
   "metadata": {},
   "outputs": [
    {
     "name": "stdout",
     "output_type": "stream",
     "text": [
      "Hello World!\n"
     ]
    }
   ],
   "source": [
    "# 2. Example of a function that accepts a function as argument\n",
    "\n",
    "def func():\n",
    "    print(\"Hello World!\")\n",
    "\n",
    "def func1(f):\n",
    "    f()\n",
    "\n",
    "func1(func)"
   ]
  },
  {
   "cell_type": "markdown",
   "id": "3c781c9d",
   "metadata": {},
   "source": [
    "In the definition of function `func1`, the parameter name is `f`, so for the function call `func1(func)`, `f` refers to the same function object to which `func` is referring to. Thus, inside the function when the statement `f()` is executed, the function `func` gets called."
   ]
  },
  {
   "cell_type": "code",
   "execution_count": 3,
   "id": "29523033",
   "metadata": {},
   "outputs": [
    {
     "name": "stdout",
     "output_type": "stream",
     "text": [
      "4\n"
     ]
    }
   ],
   "source": [
    "# 3. Example of a function being returned from a function\n",
    "\n",
    "def g():\n",
    "    print(2+2)\n",
    "\n",
    "def func2():\n",
    "    return g\n",
    "\n",
    "f3=func2()\n",
    "f3()"
   ]
  },
  {
   "cell_type": "markdown",
   "id": "776426c4",
   "metadata": {},
   "source": [
    "Steps in sequence:\n",
    "\n",
    "- `def g()` creates a function object and assigns it to the name `g`.\n",
    "- The function object is created when `g` is defined, and the name `g` refers to it.\n",
    "- `func2` is a function that returns the function `g`.\n",
    "- `f3 = func2()` calls `func2`, so `f3` is assigned the function object returned by `func2` (which is `g`).\n",
    "- The function `g` is the return value of `func2` so the `function object` referred to by the name `g` is also assigned to the variable `f3`.\n",
    "- Since `f3` holds actually refers to a `function object` it is callable and hence we can write `f3()`."
   ]
  },
  {
   "cell_type": "markdown",
   "id": "c26d9705",
   "metadata": {},
   "source": []
  }
 ],
 "metadata": {
  "kernelspec": {
   "display_name": "Python 3",
   "language": "python",
   "name": "python3"
  },
  "language_info": {
   "codemirror_mode": {
    "name": "ipython",
    "version": 3
   },
   "file_extension": ".py",
   "mimetype": "text/x-python",
   "name": "python",
   "nbconvert_exporter": "python",
   "pygments_lexer": "ipython3",
   "version": "3.12.0"
  }
 },
 "nbformat": 4,
 "nbformat_minor": 5
}
