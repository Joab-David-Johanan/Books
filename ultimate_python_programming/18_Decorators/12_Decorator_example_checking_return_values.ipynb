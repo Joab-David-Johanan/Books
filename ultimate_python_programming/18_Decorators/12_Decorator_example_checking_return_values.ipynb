{
 "cells": [
  {
   "cell_type": "markdown",
   "id": "27f07489",
   "metadata": {},
   "source": [
    "<span style='background-color:orange'>**Limiting return values within a specific range using a decorator:**</span>"
   ]
  },
  {
   "cell_type": "code",
   "execution_count": 11,
   "id": "e4b0d178",
   "metadata": {},
   "outputs": [
    {
     "name": "stdout",
     "output_type": "stream",
     "text": [
      "func1 was called\n",
      "Return value is 100\n",
      "func1 was called\n"
     ]
    },
    {
     "ename": "ValueError",
     "evalue": "Return value is not within specified range",
     "output_type": "error",
     "traceback": [
      "\u001b[31m---------------------------------------------------------------------------\u001b[39m",
      "\u001b[31mValueError\u001b[39m                                Traceback (most recent call last)",
      "\u001b[36mCell\u001b[39m\u001b[36m \u001b[39m\u001b[32mIn[11]\u001b[39m\u001b[32m, line 16\u001b[39m\n\u001b[32m     13\u001b[39m     \u001b[38;5;28;01mreturn\u001b[39;00m n**e\n\u001b[32m     15\u001b[39m func1(\u001b[32m10\u001b[39m,e=\u001b[32m2\u001b[39m)\n\u001b[32m---> \u001b[39m\u001b[32m16\u001b[39m \u001b[43mfunc1\u001b[49m\u001b[43m(\u001b[49m\u001b[32;43m5\u001b[39;49m\u001b[43m,\u001b[49m\u001b[32;43m10\u001b[39;49m\u001b[43m)\u001b[49m\n",
      "\u001b[36mCell\u001b[39m\u001b[36m \u001b[39m\u001b[32mIn[11]\u001b[39m\u001b[32m, line 6\u001b[39m, in \u001b[36mlimit_return_value.<locals>.wrapper\u001b[39m\u001b[34m(*args, **kwargs)\u001b[39m\n\u001b[32m      4\u001b[39m result=fn(*args,**kwargs)\n\u001b[32m      5\u001b[39m \u001b[38;5;28;01mif\u001b[39;00m result<\u001b[32m0\u001b[39m \u001b[38;5;129;01mor\u001b[39;00m result>\u001b[32m1000\u001b[39m:\n\u001b[32m----> \u001b[39m\u001b[32m6\u001b[39m     \u001b[38;5;28;01mraise\u001b[39;00m \u001b[38;5;167;01mValueError\u001b[39;00m(\u001b[33m'\u001b[39m\u001b[33mReturn value is not within specified range\u001b[39m\u001b[33m'\u001b[39m)\n\u001b[32m      7\u001b[39m \u001b[38;5;28mprint\u001b[39m(\u001b[33mf\u001b[39m\u001b[33m\"\u001b[39m\u001b[33mReturn value is \u001b[39m\u001b[38;5;132;01m{\u001b[39;00mresult\u001b[38;5;132;01m}\u001b[39;00m\u001b[33m\"\u001b[39m)\n\u001b[32m      8\u001b[39m \u001b[38;5;28;01mreturn\u001b[39;00m result\n",
      "\u001b[31mValueError\u001b[39m: Return value is not within specified range"
     ]
    }
   ],
   "source": [
    "def limit_return_value(fn):\n",
    "    def wrapper(*args,**kwargs):\n",
    "        print(f\"{fn.__name__} was called\")\n",
    "        result=fn(*args,**kwargs)\n",
    "        if result<0 or result>1000:\n",
    "            raise ValueError('Return value is not within specified range')\n",
    "        print(f\"Return value is {result}\")\n",
    "        return result\n",
    "    return wrapper\n",
    "\n",
    "@limit_return_value\n",
    "def func1(n,e):\n",
    "    return n**e\n",
    "\n",
    "func1(10,e=2)\n",
    "func1(5,10)"
   ]
  }
 ],
 "metadata": {
  "kernelspec": {
   "display_name": "Python 3",
   "language": "python",
   "name": "python3"
  },
  "language_info": {
   "codemirror_mode": {
    "name": "ipython",
    "version": 3
   },
   "file_extension": ".py",
   "mimetype": "text/x-python",
   "name": "python",
   "nbconvert_exporter": "python",
   "pygments_lexer": "ipython3",
   "version": "3.12.0"
  }
 },
 "nbformat": 4,
 "nbformat_minor": 5
}
