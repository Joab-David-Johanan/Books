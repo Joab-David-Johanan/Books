{
 "cells": [
  {
   "cell_type": "markdown",
   "id": "d18bab5c",
   "metadata": {},
   "source": [
    "<span style='background-color:orange'>**Decorators that take arguments:**</span>\n",
    "- So far all the examples of decorators we have seen---> **@my_decorator**,**@timer**,**@logger**,**@counter** did not take arguments nor did they decorate functions that took arguments. But now we will see how to decorate functions that take arguments."
   ]
  },
  {
   "cell_type": "code",
   "execution_count": 1,
   "id": "52f9cd16",
   "metadata": {},
   "outputs": [
    {
     "name": "stdout",
     "output_type": "stream",
     "text": [
      "func1 took 0.5550458431243896 seconds\n"
     ]
    },
    {
     "ename": "TypeError",
     "evalue": "timer.<locals>.wrapper() takes 0 positional arguments but 1 was given",
     "output_type": "error",
     "traceback": [
      "\u001b[31m---------------------------------------------------------------------------\u001b[39m",
      "\u001b[31mTypeError\u001b[39m                                 Traceback (most recent call last)",
      "\u001b[36mCell\u001b[39m\u001b[36m \u001b[39m\u001b[32mIn[1]\u001b[39m\u001b[32m, line 21\u001b[39m\n\u001b[32m     18\u001b[39m     \u001b[38;5;28;01mreturn\u001b[39;00m total\n\u001b[32m     20\u001b[39m func1()\n\u001b[32m---> \u001b[39m\u001b[32m21\u001b[39m \u001b[43mfunc2\u001b[49m\u001b[43m(\u001b[49m\u001b[32;43m10000\u001b[39;49m\u001b[43m)\u001b[49m\n",
      "\u001b[31mTypeError\u001b[39m: timer.<locals>.wrapper() takes 0 positional arguments but 1 was given"
     ]
    }
   ],
   "source": [
    "def timer(fn):\n",
    "    def wrapper():\n",
    "        from time import time\n",
    "        start=time()\n",
    "        fn()\n",
    "        end=time()\n",
    "        print(f\"{fn.__name__} took {end-start} seconds\")\n",
    "    return wrapper\n",
    "\n",
    "@timer\n",
    "def func1():\n",
    "    return 99**999999\n",
    "    \n",
    "@timer\n",
    "def func2(i):\n",
    "    for x in range(i):\n",
    "        total+=x\n",
    "    return total\n",
    "\n",
    "func1()\n",
    "func2(10000)"
   ]
  },
  {
   "cell_type": "code",
   "execution_count": 2,
   "id": "e8668608",
   "metadata": {},
   "outputs": [
    {
     "name": "stdout",
     "output_type": "stream",
     "text": [
      "func1 took 0.5727865695953369 seconds\n"
     ]
    },
    {
     "ename": "TypeError",
     "evalue": "func2() missing 1 required positional argument: 'i'",
     "output_type": "error",
     "traceback": [
      "\u001b[31m---------------------------------------------------------------------------\u001b[39m",
      "\u001b[31mTypeError\u001b[39m                                 Traceback (most recent call last)",
      "\u001b[36mCell\u001b[39m\u001b[36m \u001b[39m\u001b[32mIn[2]\u001b[39m\u001b[32m, line 21\u001b[39m\n\u001b[32m     18\u001b[39m     \u001b[38;5;28;01mreturn\u001b[39;00m total\n\u001b[32m     20\u001b[39m func1()\n\u001b[32m---> \u001b[39m\u001b[32m21\u001b[39m \u001b[43mfunc2\u001b[49m\u001b[43m(\u001b[49m\u001b[43m)\u001b[49m\n",
      "\u001b[36mCell\u001b[39m\u001b[36m \u001b[39m\u001b[32mIn[2]\u001b[39m\u001b[32m, line 5\u001b[39m, in \u001b[36mtimer.<locals>.wrapper\u001b[39m\u001b[34m()\u001b[39m\n\u001b[32m      3\u001b[39m \u001b[38;5;28;01mfrom\u001b[39;00m\u001b[38;5;250m \u001b[39m\u001b[34;01mtime\u001b[39;00m\u001b[38;5;250m \u001b[39m\u001b[38;5;28;01mimport\u001b[39;00m time\n\u001b[32m      4\u001b[39m start=time()\n\u001b[32m----> \u001b[39m\u001b[32m5\u001b[39m \u001b[43mfn\u001b[49m\u001b[43m(\u001b[49m\u001b[43m)\u001b[49m\n\u001b[32m      6\u001b[39m end=time()\n\u001b[32m      7\u001b[39m \u001b[38;5;28mprint\u001b[39m(\u001b[33mf\u001b[39m\u001b[33m\"\u001b[39m\u001b[38;5;132;01m{\u001b[39;00mfn.\u001b[34m__name__\u001b[39m\u001b[38;5;132;01m}\u001b[39;00m\u001b[33m took \u001b[39m\u001b[38;5;132;01m{\u001b[39;00mend-start\u001b[38;5;132;01m}\u001b[39;00m\u001b[33m seconds\u001b[39m\u001b[33m\"\u001b[39m)\n",
      "\u001b[31mTypeError\u001b[39m: func2() missing 1 required positional argument: 'i'"
     ]
    }
   ],
   "source": [
    "def timer(fn):\n",
    "    def wrapper():\n",
    "        from time import time\n",
    "        start=time()\n",
    "        fn()\n",
    "        end=time()\n",
    "        print(f\"{fn.__name__} took {end-start} seconds\")\n",
    "    return wrapper\n",
    "\n",
    "@timer\n",
    "def func1():\n",
    "    return 99**999999\n",
    "    \n",
    "@timer\n",
    "def func2(i):\n",
    "    for x in range(i):\n",
    "        total+=x\n",
    "    return total\n",
    "\n",
    "func1()\n",
    "func2()"
   ]
  },
  {
   "cell_type": "code",
   "execution_count": 2,
   "id": "f051411b",
   "metadata": {},
   "outputs": [
    {
     "name": "stdout",
     "output_type": "stream",
     "text": [
      "func2 took 0.0037903785705566406 seconds\n"
     ]
    },
    {
     "ename": "TypeError",
     "evalue": "timer.<locals>.wrapper() missing 1 required positional argument: 'n'",
     "output_type": "error",
     "traceback": [
      "\u001b[31m---------------------------------------------------------------------------\u001b[39m",
      "\u001b[31mTypeError\u001b[39m                                 Traceback (most recent call last)",
      "\u001b[36mCell\u001b[39m\u001b[36m \u001b[39m\u001b[32mIn[2]\u001b[39m\u001b[32m, line 22\u001b[39m\n\u001b[32m     19\u001b[39m     \u001b[38;5;28;01mreturn\u001b[39;00m total\n\u001b[32m     21\u001b[39m func2(\u001b[32m100000\u001b[39m)\n\u001b[32m---> \u001b[39m\u001b[32m22\u001b[39m \u001b[43mfunc1\u001b[49m\u001b[43m(\u001b[49m\u001b[43m)\u001b[49m\n",
      "\u001b[31mTypeError\u001b[39m: timer.<locals>.wrapper() missing 1 required positional argument: 'n'"
     ]
    }
   ],
   "source": [
    "def timer(fn):\n",
    "    def wrapper(n):\n",
    "        from time import time\n",
    "        start=time()\n",
    "        fn(n)\n",
    "        end=time()\n",
    "        print(f\"{fn.__name__} took {end-start} seconds\")\n",
    "    return wrapper\n",
    "\n",
    "@timer\n",
    "def func1():\n",
    "    return 99**999999\n",
    "    \n",
    "@timer\n",
    "def func2(n):\n",
    "    total=0\n",
    "    for i in range(n):\n",
    "        total+=i\n",
    "    return total\n",
    "\n",
    "func2(100000)\n",
    "func1()\n"
   ]
  },
  {
   "cell_type": "code",
   "execution_count": 8,
   "id": "aaca637d",
   "metadata": {},
   "outputs": [
    {
     "name": "stdout",
     "output_type": "stream",
     "text": [
      "func1 took 0.565751314163208 seconds\n",
      "func2 took 0.044367313385009766 seconds\n"
     ]
    }
   ],
   "source": [
    "def timer(fn):\n",
    "    def wrapper(*args,**kwargs):\n",
    "        from time import time\n",
    "        start=time()\n",
    "        fn(*args,**kwargs)\n",
    "        end=time()\n",
    "        print(f\"{fn.__name__} took {end-start} seconds\")\n",
    "    return wrapper\n",
    "\n",
    "@timer\n",
    "def func1():\n",
    "    return 99**999999\n",
    "    \n",
    "@timer\n",
    "def func2(n):\n",
    "    total=0\n",
    "    for x in range(n):\n",
    "        total+=x\n",
    "    return total\n",
    "\n",
    "func1()\n",
    "func2(1000000)"
   ]
  },
  {
   "cell_type": "markdown",
   "id": "526114ef",
   "metadata": {},
   "source": [
    "Explanation:\n",
    "- To make our decorator generic, we can use **args** and **kwargs** in the function header to collect variable number of positional and keyword arguments. So, now we will make our `wrapper` function take **variable number of positional and keyword arguments**, and then we will forward them to the undecorated function."
   ]
  }
 ],
 "metadata": {
  "kernelspec": {
   "display_name": "Python 3",
   "language": "python",
   "name": "python3"
  },
  "language_info": {
   "codemirror_mode": {
    "name": "ipython",
    "version": 3
   },
   "file_extension": ".py",
   "mimetype": "text/x-python",
   "name": "python",
   "nbconvert_exporter": "python",
   "pygments_lexer": "ipython3",
   "version": "3.12.0"
  }
 },
 "nbformat": 4,
 "nbformat_minor": 5
}
