{
 "cells": [
  {
   "cell_type": "code",
   "execution_count": null,
   "id": "d9e92130",
   "metadata": {},
   "outputs": [],
   "source": [
    "def logger(fn):\n",
    "    def wrapper():\n",
    "        # ctime is used to get the current time\n",
    "        from time import ctime\n",
    "        # 'w' write mode clears/truncates the file then writes from the start\n",
    "        # 'a' append mode keeps the existing content and adds new content at the end\n",
    "        with open('log.txt','w') as file:\n",
    "            file.write(f\"{fn.__name__} was called at {ctime()}\\n\")\n",
    "        fn()\n",
    "    return wrapper\n",
    "\n",
    "@logger\n",
    "def func():\n",
    "    return 99**3\n",
    "\n",
    "func()"
   ]
  },
  {
   "cell_type": "markdown",
   "id": "9d1b8086",
   "metadata": {},
   "source": [
    "**Notes:**\n",
    "- As usual, this decorator has parameter `fn` which will accept a function argument. Inside the wrapper function, we have called `fn` and before this call we have logged the call to file `log.txt`. The `function name` and `current time` are written to the file `log.txt`."
   ]
  }
 ],
 "metadata": {
  "kernelspec": {
   "display_name": "Python 3",
   "language": "python",
   "name": "python3"
  },
  "language_info": {
   "codemirror_mode": {
    "name": "ipython",
    "version": 3
   },
   "file_extension": ".py",
   "mimetype": "text/x-python",
   "name": "python",
   "nbconvert_exporter": "python",
   "pygments_lexer": "ipython3",
   "version": "3.12.0"
  }
 },
 "nbformat": 4,
 "nbformat_minor": 5
}
