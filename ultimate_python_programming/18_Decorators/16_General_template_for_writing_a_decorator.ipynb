{
 "cells": [
  {
   "cell_type": "code",
   "execution_count": 1,
   "id": "7c9a7d48",
   "metadata": {},
   "outputs": [],
   "source": [
    "from functools import wraps\n",
    "def trace(fn):\n",
    "    # For preserving metadata of function\n",
    "    @wraps(fn)\n",
    "    def wrapper(*args,**kwargs):\n",
    "        # Place code to be run before function call\n",
    "        print(f\"{fn.__name__} was called\")\n",
    "        print(f\"args: {args} kwargs: {kwargs}\")\n",
    "        result=fn(*args,**kwargs)\n",
    "        # Place code to be run after function call\n",
    "        print(f\"result:{result}\")\n",
    "        return result\n",
    "    return wrapper"
   ]
  }
 ],
 "metadata": {
  "kernelspec": {
   "display_name": "Python 3",
   "language": "python",
   "name": "python3"
  },
  "language_info": {
   "codemirror_mode": {
    "name": "ipython",
    "version": 3
   },
   "file_extension": ".py",
   "mimetype": "text/x-python",
   "name": "python",
   "nbconvert_exporter": "python",
   "pygments_lexer": "ipython3",
   "version": "3.12.0"
  }
 },
 "nbformat": 4,
 "nbformat_minor": 5
}
