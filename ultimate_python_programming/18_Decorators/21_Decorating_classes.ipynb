{
 "cells": [
  {
   "cell_type": "markdown",
   "id": "61b13cc8",
   "metadata": {},
   "source": [
    "<span style='background-color:orange'>**Decorating methods using a decorator function:**</span>"
   ]
  },
  {
   "cell_type": "code",
   "execution_count": 7,
   "id": "bdbd041c",
   "metadata": {},
   "outputs": [
    {
     "name": "stdout",
     "output_type": "stream",
     "text": [
      "method1 was called\n",
      "args:(<__main__.Example object at 0x000001E9B33B50D0>, 10) kwargs:{}\n",
      "result: 45\n",
      "what is in the the val variable ----> 45\n"
     ]
    }
   ],
   "source": [
    "from functools import wraps\n",
    "def trace(fn):\n",
    "    @wraps(fn)\n",
    "    def wrapper(*args,**kwargs):\n",
    "        print(f\"{fn.__name__} was called\")\n",
    "        print(f\"args:{args} kwargs:{kwargs}\")\n",
    "        result=fn(*args,**kwargs)\n",
    "        print(f\"result: {result}\")\n",
    "        return result\n",
    "    return wrapper\n",
    "\n",
    "\n",
    "\n",
    "class Example:\n",
    "    def __init__(self):\n",
    "        pass\n",
    "    @trace\n",
    "    def method1(self,n):\n",
    "        total=0\n",
    "        for i in range(n):\n",
    "            total+=i\n",
    "        return total\n",
    "        \n",
    "\n",
    "obj=Example()\n",
    "val=obj.method1(10)\n",
    "print(f\"what is in the the val variable ----> {val}\")\n"
   ]
  },
  {
   "cell_type": "markdown",
   "id": "dfd7b3a3",
   "metadata": {},
   "source": [
    "<span style='background-color:orange'>**Decorating classes using a decorator function:**</span> \n",
    "- Here we just add attributes to an existing class. We add a line to the doc string of the class and a author attribute."
   ]
  },
  {
   "cell_type": "code",
   "execution_count": 23,
   "id": "4b753cc9",
   "metadata": {},
   "outputs": [
    {
     "name": "stdout",
     "output_type": "stream",
     "text": [
      "This class is about cars\n",
      "This is an important class\n",
      "{'__module__': '__main__', '__doc__': 'This class is about cars\\nThis is an important class', '__init__': <function Car.__init__ at 0x000002866CBCACA0>, 'show': <function Car.show at 0x000002866CC411C0>, '__dict__': <attribute '__dict__' of 'Car' objects>, '__weakref__': <attribute '__weakref__' of 'Car' objects>, 'author': 'Joab'}\n",
      "\n",
      "This class for greeting people\n",
      "This is an important class\n",
      "{'__module__': '__main__', '__doc__': 'This class for greeting people\\nThis is an important class', '__init__': <function Greet.__init__ at 0x000002866CC40900>, 'greet': <function Greet.greet at 0x000002866CC40540>, '__dict__': <attribute '__dict__' of 'Greet' objects>, '__weakref__': <attribute '__weakref__' of 'Greet' objects>, 'author': 'Joab'}\n",
      "\n",
      "hello was called\n",
      "args: ('Joab',) kwargs:{}\n",
      "Hello Joab!\n",
      "result:None\n"
     ]
    }
   ],
   "source": [
    "# decorating a class using a function decorator\n",
    "def my_decorator(cls):\n",
    "    if cls.__doc__ is None:\n",
    "        cls.__doc__ = '\\nThis is an important class\\n'\n",
    "    else:\n",
    "        cls.__doc__ += '\\nThis is an important class'\n",
    "    cls.author = 'Joab'\n",
    "    return cls\n",
    "\n",
    "# using automatic decoration syntax\n",
    "@my_decorator\n",
    "class Car:\n",
    "    \"\"\"This class is about cars\"\"\"\n",
    "    def __init__(self, brand,price):\n",
    "        self.brand=brand\n",
    "        self.price=price\n",
    "    def show(self):\n",
    "        print(f\"The car is  a {self.brand} worth {self.price}\")\n",
    "\n",
    "#Car(\"Lamborghini\",350000)\n",
    "print(Car.__doc__)\n",
    "print(Car.__dict__)\n",
    "\n",
    "# using manual decoration syntax\n",
    "class Greet:\n",
    "    \"\"\"This class for greeting people\"\"\"\n",
    "    def __init__(self, name):\n",
    "        self.name=name\n",
    "\n",
    "    def greet(self):\n",
    "        print(f\"Welcome {self.name}!\")\n",
    "\n",
    "Greet=my_decorator(Greet)\n",
    "print()\n",
    "print(Greet.__doc__)\n",
    "print(Greet.__dict__)\n",
    "\n",
    "# decorating a function using a function decorator\n",
    "from functools import wraps\n",
    "def trace(fn):\n",
    "    @wraps(fn)\n",
    "    def wrapper(*args,**kwargs):\n",
    "        print(f\"{fn.__name__} was called\")\n",
    "        print(f\"args: {args} kwargs:{kwargs}\")\n",
    "        result=fn(*args,**kwargs)\n",
    "        print(f\"result:{result}\")\n",
    "        return result\n",
    "    return wrapper\n",
    "\n",
    "@trace\n",
    "def hello(name):\n",
    "    print(f\"Hello {name}!\")\n",
    "\n",
    "print()\n",
    "hello(\"Joab\")"
   ]
  },
  {
   "cell_type": "markdown",
   "id": "afd22894",
   "metadata": {},
   "source": [
    "**Breakdown on why decorating this class does not need a closure?**\n",
    "- **Functions** → the only thing interesting about them is being called. To change behavior, you must wrap them in another callable (closure).\n",
    "- **Classes** → are objects with rich internal machinery (`__dict__`, `__init__`,`__call__`, `__new__`, `metaclass`).\n",
    "    - If all you want is to add attributes/methods/metadata, no closure is needed.\n",
    "    - If you want to change how Car(...) works, then you do need a closure (or a dynamic subclass, or to patch __init__)."
   ]
  },
  {
   "cell_type": "markdown",
   "id": "47770b78",
   "metadata": {},
   "source": [
    "<span style='background-color:orange'>**Decorating classes using a decorator function:** </span>\n",
    "- Here we add an instance variable to each class and also print out the time of creation of each instance."
   ]
  },
  {
   "cell_type": "code",
   "execution_count": 29,
   "id": "9fc8a07b",
   "metadata": {},
   "outputs": [
    {
     "name": "stdout",
     "output_type": "stream",
     "text": [
      "Object of type Car created!\n",
      "Object of type Car created!\n",
      "Sat Aug 16 10:06:29 2025\n",
      "Sat Aug 16 10:06:29 2025\n"
     ]
    }
   ],
   "source": [
    "def class_decorator(cls):\n",
    "    init=cls.__init__\n",
    "    def new_init(self,*args,**kwargs):\n",
    "        from time import ctime\n",
    "        cls.time_of_creation=ctime()\n",
    "        print(f\"Object of type {cls.__name__} created!\")\n",
    "        init(self,*args,**kwargs)\n",
    "    cls.__init__=new_init\n",
    "    return cls\n",
    "\n",
    "@class_decorator\n",
    "class Car:\n",
    "    def __init__(self,brand,price):\n",
    "        self.brand=brand\n",
    "        self.price=price\n",
    "    def show(self):\n",
    "        print(f\"Car is a {self.brand} worth {self.price}\")\n",
    "\n",
    "x=Car(brand=\"Audi\",price=250000)\n",
    "y=Car(brand=\"BMW\",price=500000)\n",
    "\n",
    "print(x.time_of_creation)\n",
    "print(y.time_of_creation)"
   ]
  }
 ],
 "metadata": {
  "kernelspec": {
   "display_name": "Python 3",
   "language": "python",
   "name": "python3"
  },
  "language_info": {
   "codemirror_mode": {
    "name": "ipython",
    "version": 3
   },
   "file_extension": ".py",
   "mimetype": "text/x-python",
   "name": "python",
   "nbconvert_exporter": "python",
   "pygments_lexer": "ipython3",
   "version": "3.12.0"
  }
 },
 "nbformat": 4,
 "nbformat_minor": 5
}
