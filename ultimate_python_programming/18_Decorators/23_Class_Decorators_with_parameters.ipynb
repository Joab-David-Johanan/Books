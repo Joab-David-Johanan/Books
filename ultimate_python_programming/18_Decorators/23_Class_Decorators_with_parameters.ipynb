{
 "cells": [
  {
   "cell_type": "markdown",
   "id": "8964dd6b",
   "metadata": {},
   "source": [
    "<span style='background-color:orange'>**Class decorators with parameters:**</span>\n",
    "- Here the `__init__` method takes the arguments of the decorator.\n",
    "- The `__call__` method takes the function to be decorated.\n",
    "- `MyDecorator(10,20) (example)` means a custom decorator with the arguments 10,20 are created and applied to the `example` function."
   ]
  },
  {
   "cell_type": "code",
   "execution_count": 2,
   "id": "5d2ca395",
   "metadata": {},
   "outputs": [
    {
     "name": "stdout",
     "output_type": "stream",
     "text": [
      "arguments are 10, 20\n",
      "arguments are 1000, 2000\n",
      "\n",
      "Starting execution...\n",
      "Hello joabdavid!\n",
      "result:joabdavid\n",
      "Ending execution...\n",
      "\n",
      "Starting execution...\n",
      "Hello David!\n",
      "result:David\n",
      "Ending execution...\n"
     ]
    },
    {
     "data": {
      "text/plain": [
       "'David'"
      ]
     },
     "execution_count": 2,
     "metadata": {},
     "output_type": "execute_result"
    }
   ],
   "source": [
    "from functools import wraps\n",
    "class MyClassDecoratorWithArgs:\n",
    "    def __init__(self,a1,a2):\n",
    "        self.a1=a1\n",
    "        self.a2=a2\n",
    "        print(f\"arguments are {self.a1}, {self.a2}\")\n",
    "\n",
    "    def __call__(self,fn):\n",
    "        @wraps(fn)\n",
    "        def wrapper(*args,**kwargs):\n",
    "            print()\n",
    "            print(f\"Starting execution...\")\n",
    "            result=fn(*args,**kwargs)\n",
    "            print(f\"result:{result}\")\n",
    "            print(f\"Ending execution...\")\n",
    "            return result\n",
    "        return wrapper\n",
    "\n",
    "@MyClassDecoratorWithArgs(10,20)\n",
    "def username(email):\n",
    "    print(f\"Hello {email[:email.index('@')]}!\")\n",
    "    return email[:email.index('@')]\n",
    "\n",
    "@MyClassDecoratorWithArgs(1000,2000)\n",
    "def greet(name):\n",
    "    print(f\"Hello {name}!\")\n",
    "    return name\n",
    "\n",
    "username(\"joabdavid@gmail.com\")\n",
    "greet(\"David\")"
   ]
  }
 ],
 "metadata": {
  "kernelspec": {
   "display_name": "Python 3",
   "language": "python",
   "name": "python3"
  },
  "language_info": {
   "codemirror_mode": {
    "name": "ipython",
    "version": 3
   },
   "file_extension": ".py",
   "mimetype": "text/x-python",
   "name": "python",
   "nbconvert_exporter": "python",
   "pygments_lexer": "ipython3",
   "version": "3.12.0"
  }
 },
 "nbformat": 4,
 "nbformat_minor": 5
}
