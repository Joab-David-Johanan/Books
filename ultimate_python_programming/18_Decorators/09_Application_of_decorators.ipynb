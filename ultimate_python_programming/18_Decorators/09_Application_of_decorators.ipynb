{
 "cells": [
  {
   "cell_type": "markdown",
   "id": "4f70dced",
   "metadata": {},
   "source": [
    "<span style='background-color:orange'>**Application of Decorators:**</span>\n",
    "- Decorators are **reuseable** pieces of code, that can be used to extend the functionality of multiple functions.\n",
    "- We have seen that we can use decorators to `calculate the time` -> **that a function takes to execute** , for `logging function calls` -> **to a file or to some other location** and for `counting function calls`.\n",
    "- You can add `debugging information` to the function, for example you can write a decorator to show what `arguments were passed` to the function and what was the `return value`.\n",
    "- Decorators can be used to `check for prerequisites` before a function executes. For example, you can write decorators that can\n",
    "check the argument types or values.\n",
    "- By using decorators, you can ensure that the `arguments are of specific type` or  `are in a certain limit`. You can even\n",
    "`sanitize/change` the format of the arguments before they are passed to the function.\n",
    "- <span style='background-color:yellow'>**You can create decorators to check for authentication and access privileges**. Django which is a popular web framework, uses the **@login_required** and **@permissions_required** decorators for checking the login status and permissions of the user before viewing a specific web page.</span>\n",
    "- <span style='background-color:red'>**Decorators are also used for URL routing in Flask**. The command **@app.route('/',methods=['GET','POST'])** is used to route to the home page of the web application.</span>"
   ]
  },
  {
   "cell_type": "markdown",
   "id": "d90b9d9a",
   "metadata": {},
   "source": []
  }
 ],
 "metadata": {
  "language_info": {
   "name": "python"
  }
 },
 "nbformat": 4,
 "nbformat_minor": 5
}
