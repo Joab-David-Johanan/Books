{
 "cells": [
  {
   "cell_type": "markdown",
   "id": "9c09033e",
   "metadata": {},
   "source": [
    "**Exercises for Decorators chapter**"
   ]
  },
  {
   "cell_type": "code",
   "execution_count": 4,
   "id": "bdac2af0",
   "metadata": {},
   "outputs": [
    {
     "ename": "NameError",
     "evalue": "name 'g' is not defined",
     "output_type": "error",
     "traceback": [
      "\u001b[31m---------------------------------------------------------------------------\u001b[39m",
      "\u001b[31mNameError\u001b[39m                                 Traceback (most recent call last)",
      "\u001b[36mCell\u001b[39m\u001b[36m \u001b[39m\u001b[32mIn[4]\u001b[39m\u001b[32m, line 5\u001b[39m\n\u001b[32m      3\u001b[39m         \u001b[38;5;28mprint\u001b[39m(\u001b[33m\"\u001b[39m\u001b[33mHello World!\u001b[39m\u001b[33m\"\u001b[39m)\n\u001b[32m      4\u001b[39m     \u001b[38;5;28;01mreturn\u001b[39;00m g\n\u001b[32m----> \u001b[39m\u001b[32m5\u001b[39m \u001b[43mg\u001b[49m()\n",
      "\u001b[31mNameError\u001b[39m: name 'g' is not defined"
     ]
    }
   ],
   "source": [
    "def func():\n",
    "    def g():\n",
    "        print(\"Hello World!\")\n",
    "    return g\n",
    "g()"
   ]
  },
  {
   "cell_type": "markdown",
   "id": "97a7cd1e",
   "metadata": {},
   "source": [
    "We cannot access g() outside of func() as it is available in the scope of func()"
   ]
  },
  {
   "cell_type": "markdown",
   "id": "b69b8123",
   "metadata": {},
   "source": [
    "We can however use a clever way to access the inner function g from outside and that way is by returning it inside func() and by calling func() we are actually given the function object that is assigned to g."
   ]
  },
  {
   "cell_type": "code",
   "execution_count": null,
   "id": "a4d45e66",
   "metadata": {},
   "outputs": [],
   "source": [
    "def func():\n",
    "    def g():\n",
    "        print(\"Hello World!\")\n",
    "    return g\n",
    "v=func()\n",
    "v()"
   ]
  },
  {
   "cell_type": "markdown",
   "id": "530ceb9d",
   "metadata": {},
   "source": []
  }
 ],
 "metadata": {
  "kernelspec": {
   "display_name": "Python 3",
   "language": "python",
   "name": "python3"
  },
  "language_info": {
   "codemirror_mode": {
    "name": "ipython",
    "version": 3
   },
   "file_extension": ".py",
   "mimetype": "text/x-python",
   "name": "python",
   "nbconvert_exporter": "python",
   "pygments_lexer": "ipython3",
   "version": "3.12.0"
  }
 },
 "nbformat": 4,
 "nbformat_minor": 5
}
