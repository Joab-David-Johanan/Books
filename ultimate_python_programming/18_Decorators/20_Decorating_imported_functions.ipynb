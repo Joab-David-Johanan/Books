{
 "cells": [
  {
   "cell_type": "code",
   "execution_count": 2,
   "id": "2ae24a7a",
   "metadata": {},
   "outputs": [
    {
     "name": "stdout",
     "output_type": "stream",
     "text": [
      "\n",
      "factorial was called\n",
      "args:(3,) kwargs:{}\n",
      "result:6\n",
      "\n",
      "randint was called\n",
      "args:(0, 100) kwargs:{}\n",
      "result:86\n"
     ]
    },
    {
     "data": {
      "text/plain": [
       "86"
      ]
     },
     "execution_count": 2,
     "metadata": {},
     "output_type": "execute_result"
    }
   ],
   "source": [
    "from math import factorial\n",
    "from random import randint\n",
    "\n",
    "from functools import wraps\n",
    "def trace(fn):\n",
    "    @wraps(fn)\n",
    "    def wrapper(*args,**kwargs):\n",
    "        print()\n",
    "        print(f\"{fn.__name__} was called\")\n",
    "        print(f\"args:{args} kwargs:{kwargs}\")\n",
    "        result=fn(*args,**kwargs)\n",
    "        print(f\"result:{result}\")\n",
    "        return result\n",
    "    return wrapper\n",
    "\n",
    "# Using manual decoration for decorating imported functions\n",
    "# Note: Automatic decoration syntax does not work for imported functions\n",
    "factorial=trace(factorial)\n",
    "randint=trace(randint)\n",
    "\n",
    "factorial(3)\n",
    "randint(0,100)"
   ]
  }
 ],
 "metadata": {
  "kernelspec": {
   "display_name": "Python 3",
   "language": "python",
   "name": "python3"
  },
  "language_info": {
   "codemirror_mode": {
    "name": "ipython",
    "version": 3
   },
   "file_extension": ".py",
   "mimetype": "text/x-python",
   "name": "python",
   "nbconvert_exporter": "python",
   "pygments_lexer": "ipython3",
   "version": "3.12.0"
  }
 },
 "nbformat": 4,
 "nbformat_minor": 5
}
